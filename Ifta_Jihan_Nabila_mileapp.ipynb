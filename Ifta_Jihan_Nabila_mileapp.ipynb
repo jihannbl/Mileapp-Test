{
  "nbformat": 4,
  "nbformat_minor": 0,
  "metadata": {
    "colab": {
      "provenance": [],
      "toc_visible": true
    },
    "kernelspec": {
      "name": "python3",
      "display_name": "Python 3"
    },
    "language_info": {
      "name": "python"
    }
  },
  "cells": [
    {
      "cell_type": "code",
      "source": [
        "import pandas as pd\n",
        "import glob\n",
        "import matplotlib.pyplot as plt\n",
        "import numpy as np\n",
        "import json\n",
        "import csv"
      ],
      "metadata": {
        "id": "oRGHTYODUdV_"
      },
      "execution_count": 4,
      "outputs": []
    },
    {
      "cell_type": "code",
      "execution_count": 5,
      "metadata": {
        "id": "WVjCP8r1_JDJ",
        "colab": {
          "base_uri": "https://localhost:8080/"
        },
        "outputId": "493991d4-0fae-42a8-a4fa-a3ec63531ba2"
      },
      "outputs": [
        {
          "output_type": "stream",
          "name": "stdout",
          "text": [
            "Mounted at /content/drive\n"
          ]
        }
      ],
      "source": [
        "from google.colab import drive\n",
        "drive.mount('/content/drive')"
      ]
    },
    {
      "cell_type": "code",
      "source": [
        "def flatten_json(data):\n",
        "    flattened_data = {}\n",
        "\n",
        "    def flatten(item, prefix=\"\"):\n",
        "        if isinstance(item, dict):\n",
        "            for key, value in item.items():\n",
        "                new_key = f\"{prefix}_{key}\" if prefix else key\n",
        "                flatten(value, new_key)\n",
        "        else:\n",
        "            flattened_data[prefix] = item\n",
        "\n",
        "    flatten(data)\n",
        "    return flattened_data\n",
        "\n",
        "\n",
        "def json_to_csv(json_data, csv_file):\n",
        "    # Open the JSON file\n",
        "    with open(json_data, 'r') as file:\n",
        "        data = json.load(file)\n",
        "\n",
        "    # Flatten the JSON data\n",
        "    flattened_data = [flatten_json(item) for item in data]\n",
        "\n",
        "    # Extract field names\n",
        "    field_names = set()\n",
        "    for item in flattened_data:\n",
        "        field_names.update(item.keys())\n",
        "\n",
        "    # Open the CSV file\n",
        "    with open(csv_file, 'w', newline='') as file:\n",
        "        writer = csv.DictWriter(file, fieldnames=field_names)\n",
        "        writer.writeheader()\n",
        "        writer.writerows(flattened_data)\n",
        "\n",
        "    print(\"Conversion completed successfully.\")\n",
        "\n",
        "# Usage\n",
        "json_file = \"/content/drive/MyDrive/Kerja/Mileapp/data.json\"  # Replace with your JSON file path\n",
        "csv_file = \"/content/drive/MyDrive/Kerja/Mileapp/data.csv\"    # Replace with your desired CSV file path\n",
        "json_to_csv(json_file, csv_file)"
      ],
      "metadata": {
        "id": "pHEtGthx_jnX",
        "colab": {
          "base_uri": "https://localhost:8080/"
        },
        "outputId": "9e659e34-3a68-441a-a9ea-91ca510d7660"
      },
      "execution_count": 6,
      "outputs": [
        {
          "output_type": "stream",
          "name": "stdout",
          "text": [
            "Conversion completed successfully.\n"
          ]
        }
      ]
    },
    {
      "cell_type": "code",
      "source": [
        "df = pd.read_csv('/content/drive/MyDrive/Kerja/Mileapp/data.csv')"
      ],
      "metadata": {
        "id": "T_rX_tuq_6oj"
      },
      "execution_count": 85,
      "outputs": []
    },
    {
      "cell_type": "markdown",
      "source": [
        "# Data Preparation"
      ],
      "metadata": {
        "id": "6d92rTRULX_o"
      }
    },
    {
      "cell_type": "code",
      "source": [
        "df = df[['taskId','taskCreatedTime','taskCompletedTime','taskStatus','taskAssignedTo','taskLocationDone_lon','taskLocationDone_lat','flow',\n",
        "  'cod_amount','cod_received','UserVar_taskStatus','UserVar_taskStatusLabel','UserVar_taskDetailStatus','UserVar_taskDetailStatusLabel',\n",
        "  'UserVar_branch_origin','UserVar_branch_dest','UserVar_weight','UserVar_receiver_city']]"
      ],
      "metadata": {
        "id": "RpKoRo4gF6OA"
      },
      "execution_count": 86,
      "outputs": []
    },
    {
      "cell_type": "code",
      "source": [
        "df.info()"
      ],
      "metadata": {
        "id": "MFnzMWUgHkYZ",
        "colab": {
          "base_uri": "https://localhost:8080/"
        },
        "outputId": "df07c3ae-5d99-4a4a-f107-1e1d9402a21e"
      },
      "execution_count": 87,
      "outputs": [
        {
          "output_type": "stream",
          "name": "stdout",
          "text": [
            "<class 'pandas.core.frame.DataFrame'>\n",
            "RangeIndex: 8334 entries, 0 to 8333\n",
            "Data columns (total 18 columns):\n",
            " #   Column                         Non-Null Count  Dtype  \n",
            "---  ------                         --------------  -----  \n",
            " 0   taskId                         8334 non-null   object \n",
            " 1   taskCreatedTime                8334 non-null   object \n",
            " 2   taskCompletedTime              7566 non-null   object \n",
            " 3   taskStatus                     8334 non-null   object \n",
            " 4   taskAssignedTo                 8333 non-null   object \n",
            " 5   taskLocationDone_lon           7566 non-null   float64\n",
            " 6   taskLocationDone_lat           7566 non-null   float64\n",
            " 7   flow                           8334 non-null   object \n",
            " 8   cod_amount                     2358 non-null   float64\n",
            " 9   cod_received                   2358 non-null   object \n",
            " 10  UserVar_taskStatus             7572 non-null   object \n",
            " 11  UserVar_taskStatusLabel        7572 non-null   object \n",
            " 12  UserVar_taskDetailStatus       7572 non-null   object \n",
            " 13  UserVar_taskDetailStatusLabel  7572 non-null   object \n",
            " 14  UserVar_branch_origin          8041 non-null   object \n",
            " 15  UserVar_branch_dest            8334 non-null   object \n",
            " 16  UserVar_weight                 8334 non-null   float64\n",
            " 17  UserVar_receiver_city          8282 non-null   object \n",
            "dtypes: float64(4), object(14)\n",
            "memory usage: 1.1+ MB\n"
          ]
        }
      ]
    },
    {
      "cell_type": "code",
      "source": [
        "# check if taskId is unique\n",
        "len(df) == len(df['taskId'].unique())"
      ],
      "metadata": {
        "colab": {
          "base_uri": "https://localhost:8080/"
        },
        "id": "YOejeNZw70tr",
        "outputId": "e28a373f-b5ab-47bc-b86e-d89d379211e7"
      },
      "execution_count": 88,
      "outputs": [
        {
          "output_type": "execute_result",
          "data": {
            "text/plain": [
              "True"
            ]
          },
          "metadata": {},
          "execution_count": 88
        }
      ]
    },
    {
      "cell_type": "markdown",
      "source": [
        "## Check Missing Values"
      ],
      "metadata": {
        "id": "rj4IBPcRLdOP"
      }
    },
    {
      "cell_type": "code",
      "source": [
        "missing_values = df.isnull().sum()\n",
        "\n",
        "missing_values_df = pd.DataFrame(missing_values)\n",
        "missing_values_df = missing_values_df.rename(columns={0: 'Missing Values'})\n",
        "missing_values_df = missing_values_df.reset_index().rename(columns={'index': 'Columns'})\n",
        "missing_values_df = missing_values_df.set_index('Columns')\n",
        "\n",
        "plt.figure(figsize=(8, 6))\n",
        "plt.barh(missing_values_df.index, missing_values_df['Missing Values'])\n",
        "plt.xlabel('Number of Missing Values')\n",
        "plt.ylabel('Columns')\n",
        "plt.title('Missing Values in Columns')\n",
        "plt.show()"
      ],
      "metadata": {
        "id": "VP7w14Tu3Vkv",
        "colab": {
          "base_uri": "https://localhost:8080/",
          "height": 564
        },
        "outputId": "e2501268-60e9-4033-deab-eb2b9b251555"
      },
      "execution_count": 89,
      "outputs": [
        {
          "output_type": "display_data",
          "data": {
            "text/plain": [
              "<Figure size 800x600 with 1 Axes>"
            ],
            "image/png": "[encoded data removed]"
          },
          "metadata": {}
        }
      ]
    },
    {
      "cell_type": "code",
      "source": [
        "missing_values"
      ],
      "metadata": {
        "id": "Ii039h7V8KxN",
        "colab": {
          "base_uri": "https://localhost:8080/"
        },
        "outputId": "898db1e5-91c9-4596-d211-bfe0f32c8aa9"
      },
      "execution_count": 90,
      "outputs": [
        {
          "output_type": "execute_result",
          "data": {
            "text/plain": [
              "taskId                              0\n",
              "taskCreatedTime                     0\n",
              "taskCompletedTime                 768\n",
              "taskStatus                          0\n",
              "taskAssignedTo                      1\n",
              "taskLocationDone_lon              768\n",
              "taskLocationDone_lat              768\n",
              "flow                                0\n",
              "cod_amount                       5976\n",
              "cod_received                     5976\n",
              "UserVar_taskStatus                762\n",
              "UserVar_taskStatusLabel           762\n",
              "UserVar_taskDetailStatus          762\n",
              "UserVar_taskDetailStatusLabel     762\n",
              "UserVar_branch_origin             293\n",
              "UserVar_branch_dest                 0\n",
              "UserVar_weight                      0\n",
              "UserVar_receiver_city              52\n",
              "dtype: int64"
            ]
          },
          "metadata": {},
          "execution_count": 90
        }
      ]
    },
    {
      "cell_type": "markdown",
      "source": [
        "check unique values in each columns"
      ],
      "metadata": {
        "id": "xlM-qxC5LjvM"
      }
    },
    {
      "cell_type": "code",
      "source": [
        "taskstatus_cnt = df['taskStatus'].value_counts()\n",
        "def autopct_format(values):\n",
        "        def my_format(pct):\n",
        "            total = sum(values)\n",
        "            val = int(round(pct*total/100.0))\n",
        "            return '{:.1f}%\\n({v:d})'.format(pct, v=val)\n",
        "        return my_format\n",
        "plt.figure(figsize=(5, 5))\n",
        "plt.pie(taskstatus_cnt,labels = taskstatus_cnt.index, autopct=autopct_format(taskstatus_cnt))\n",
        "plt.title('Task Status')\n",
        "plt.show()"
      ],
      "metadata": {
        "id": "NPPvZ4rq9jFt",
        "colab": {
          "base_uri": "https://localhost:8080/",
          "height": 444
        },
        "outputId": "ad8aeb6f-5f2e-422c-ed7c-db4fa059d452"
      },
      "execution_count": 91,
      "outputs": [
        {
          "output_type": "display_data",
          "data": {
            "text/plain": [
              "<Figure size 500x500 with 1 Axes>"
            ],
            "image/png": "[encoded data removed]"
          },
          "metadata": {}
        }
      ]
    },
    {
      "cell_type": "code",
      "source": [
        "df['flow'].value_counts()"
      ],
      "metadata": {
        "id": "xKn-yLr19pGl",
        "colab": {
          "base_uri": "https://localhost:8080/"
        },
        "outputId": "e767aa65-0717-44c8-add2-f9fcdaae5cb6"
      },
      "execution_count": 92,
      "outputs": [
        {
          "output_type": "execute_result",
          "data": {
            "text/plain": [
              "Delivery    8334\n",
              "Name: flow, dtype: int64"
            ]
          },
          "metadata": {},
          "execution_count": 92
        }
      ]
    },
    {
      "cell_type": "code",
      "source": [
        "df['cod_received'].value_counts()"
      ],
      "metadata": {
        "id": "Iz5h7NYZ9o88",
        "colab": {
          "base_uri": "https://localhost:8080/"
        },
        "outputId": "acef699f-8daa-458a-8231-6e5ee93b913e"
      },
      "execution_count": 93,
      "outputs": [
        {
          "output_type": "execute_result",
          "data": {
            "text/plain": [
              "False    1663\n",
              "True      695\n",
              "Name: cod_received, dtype: int64"
            ]
          },
          "metadata": {},
          "execution_count": 93
        }
      ]
    },
    {
      "cell_type": "code",
      "source": [
        "df['UserVar_taskStatus'].value_counts()"
      ],
      "metadata": {
        "id": "XbG4etx49xJ7",
        "colab": {
          "base_uri": "https://localhost:8080/"
        },
        "outputId": "cc01d176-fb60-419d-a9a7-fdc52f4b3bd0"
      },
      "execution_count": 94,
      "outputs": [
        {
          "output_type": "execute_result",
          "data": {
            "text/plain": [
              "COLF01    5427\n",
              "COLF02    2145\n",
              "Name: UserVar_taskStatus, dtype: int64"
            ]
          },
          "metadata": {},
          "execution_count": 94
        }
      ]
    },
    {
      "cell_type": "code",
      "source": [
        "df['UserVar_taskStatusLabel'].value_counts()"
      ],
      "metadata": {
        "id": "IBImQEfE929g",
        "colab": {
          "base_uri": "https://localhost:8080/"
        },
        "outputId": "bb146799-db38-4931-bb58-53ddb22d40f5"
      },
      "execution_count": 95,
      "outputs": [
        {
          "output_type": "execute_result",
          "data": {
            "text/plain": [
              "Success    5427\n",
              "Failed     2145\n",
              "Name: UserVar_taskStatusLabel, dtype: int64"
            ]
          },
          "metadata": {},
          "execution_count": 95
        }
      ]
    },
    {
      "cell_type": "code",
      "source": [
        "df['UserVar_taskDetailStatusLabel'].value_counts()"
      ],
      "metadata": {
        "id": "RYuEWIa092l2",
        "colab": {
          "base_uri": "https://localhost:8080/"
        },
        "outputId": "b78a2ddd-b98c-428d-c083-9c002392af83"
      },
      "execution_count": 96,
      "outputs": [
        {
          "output_type": "execute_result",
          "data": {
            "text/plain": [
              "YANG BERSANGKUTAN                                    3109\n",
              "KELUARGA/SAUDARA                                      774\n",
              "MISROUTE                                              763\n",
              "ATASAN/STAFF/KARYAWAN/BAWAHAN                         634\n",
              "SECURITY                                              564\n",
              "ALAMAT TIDAK LENGKAP service/ TIDAK DIKENAL           322\n",
              "RUMAH service/ KANTOR KOSONG (MASIH DIHUNI)           304\n",
              "NEW ADDRESS                                           247\n",
              "DIAMBIL SENDIRI                                       100\n",
              "SUAMI/ISTRI/ANAK                                       94\n",
              "RECEPTIONIST                                           87\n",
              "TUTUP PADA AKHIR PEKAN service/ HARI LIBUR             70\n",
              "PENERIMA TIDAK DIKENAL                                 64\n",
              "MAILING ROOM                                           62\n",
              "PEMBANTU                                               61\n",
              "DITOLAK OLEH PENERIMA                                  52\n",
              "PENERIMA MENOLAK BAYAR (KIRIMAN COD)                   48\n",
              "PENERIMA PINDAH ALAMAT                                 45\n",
              "FORCE MAJEURE                                          42\n",
              "MENUNGGU PEMBAYARAN COD                                27\n",
              "HOLD FOR FURTHER INSTRUCTI0N                           24\n",
              "PENJAGA KOS                                            21\n",
              "PENERIMA MENOLAK MENERIMA KIRIMAN COD (TDK PESAN)      17\n",
              "TUTUP/LIBUR CUTI/DINAS LUAR KOTA (KIRIMAN COD)         13\n",
              "SUPIR                                                  11\n",
              "OFFICE BOY                                              6\n",
              "SEKRETARIS                                              4\n",
              "RUMAH service/ KANTOR TIDAK DIHUNI                      3\n",
              "MENUNGGU KONFIRMASI NILAI COD                           2\n",
              "CRISS-CROSS                                             1\n",
              "DAMAGE CASE                                             1\n",
              "Name: UserVar_taskDetailStatusLabel, dtype: int64"
            ]
          },
          "metadata": {},
          "execution_count": 96
        }
      ]
    },
    {
      "cell_type": "markdown",
      "source": [
        "find pattern of the missing values. turns out that some values are still missing because the taskStatus is still 'ongoing'"
      ],
      "metadata": {
        "id": "reCVA4vYLsMk"
      }
    },
    {
      "cell_type": "code",
      "source": [
        "check_taskDetailStatus = df[df['UserVar_taskStatusLabel'].isna()]\n",
        "check_taskDetailStatus.taskStatus.value_counts()"
      ],
      "metadata": {
        "colab": {
          "base_uri": "https://localhost:8080/"
        },
        "id": "JkXktQFIBmiT",
        "outputId": "43bd8dc3-7fa9-40a5-ad0f-640708c95702"
      },
      "execution_count": 97,
      "outputs": [
        {
          "output_type": "execute_result",
          "data": {
            "text/plain": [
              "ongoing    762\n",
              "Name: taskStatus, dtype: int64"
            ]
          },
          "metadata": {},
          "execution_count": 97
        }
      ]
    },
    {
      "cell_type": "code",
      "source": [
        "check_taskStatusLabel = df[df['UserVar_taskStatusLabel'].isna()]\n",
        "check_taskStatusLabel.taskStatus.value_counts()"
      ],
      "metadata": {
        "colab": {
          "base_uri": "https://localhost:8080/"
        },
        "id": "RBrVVQsAB2xE",
        "outputId": "71849648-00bb-4443-a55a-3e6adb030dcb"
      },
      "execution_count": 98,
      "outputs": [
        {
          "output_type": "execute_result",
          "data": {
            "text/plain": [
              "ongoing    762\n",
              "Name: taskStatus, dtype: int64"
            ]
          },
          "metadata": {},
          "execution_count": 98
        }
      ]
    },
    {
      "cell_type": "code",
      "source": [
        "# there are still 6 missval but with 'done' status \n",
        "check_taskCompletedTime = df[df['taskCompletedTime'].isna()]\n",
        "check_taskCompletedTime.taskStatus.value_counts()"
      ],
      "metadata": {
        "colab": {
          "base_uri": "https://localhost:8080/"
        },
        "id": "D7081bvcCdWV",
        "outputId": "efe348c0-2cb5-4a69-979b-36ce6587b92a"
      },
      "execution_count": 99,
      "outputs": [
        {
          "output_type": "execute_result",
          "data": {
            "text/plain": [
              "ongoing    762\n",
              "done         6\n",
              "Name: taskStatus, dtype: int64"
            ]
          },
          "metadata": {},
          "execution_count": 99
        }
      ]
    },
    {
      "cell_type": "code",
      "source": [
        "# the 6 rows contains the same values for taskAssignedTo, UserVar_branch_dest, and UserVar_taskStatusLabel means that \n",
        "# the values are just missing but the deliveries are already being received\n",
        "check_taskCompletedTime[check_taskCompletedTime['taskStatus']=='done']"
      ],
      "metadata": {
        "colab": {
          "base_uri": "https://localhost:8080/",
          "height": 406
        },
        "id": "7uh2zAlNEHrP",
        "outputId": "b1e0b863-bd33-4093-945e-596b6f487a80"
      },
      "execution_count": 100,
      "outputs": [
        {
          "output_type": "execute_result",
          "data": {
            "text/plain": [
              "                   taskId            taskCreatedTime taskCompletedTime  \\\n",
              "550  9779ae5b5f88ba0bf31c  2022-11-01 15:04:06 +0700               NaN   \n",
              "551  8ade827b1e3530c02e82  2022-11-01 16:59:58 +0700               NaN   \n",
              "552  292b1e9f73099dac1209  2022-11-01 16:59:58 +0700               NaN   \n",
              "553  7e8862b3f4010465f006  2022-11-01 16:59:58 +0700               NaN   \n",
              "554  a4fb8aed363abc3d6af3  2022-11-01 10:13:02 +0700               NaN   \n",
              "555  38e5d762840ec39984b1  2022-11-01 10:13:03 +0700               NaN   \n",
              "\n",
              "    taskStatus taskAssignedTo  taskLocationDone_lon  taskLocationDone_lat  \\\n",
              "550       done  mildCardinal0                   NaN                   NaN   \n",
              "551       done  mildCardinal0                   NaN                   NaN   \n",
              "552       done  mildCardinal0                   NaN                   NaN   \n",
              "553       done  mildCardinal0                   NaN                   NaN   \n",
              "554       done  mildCardinal0                   NaN                   NaN   \n",
              "555       done  mildCardinal0                   NaN                   NaN   \n",
              "\n",
              "         flow  cod_amount cod_received UserVar_taskStatus  \\\n",
              "550  Delivery         NaN          NaN             COLF01   \n",
              "551  Delivery         NaN          NaN             COLF01   \n",
              "552  Delivery         NaN          NaN             COLF01   \n",
              "553  Delivery         NaN          NaN             COLF01   \n",
              "554  Delivery         NaN          NaN             COLF01   \n",
              "555  Delivery         NaN          NaN             COLF01   \n",
              "\n",
              "    UserVar_taskStatusLabel UserVar_taskDetailStatus  \\\n",
              "550                 Success                      D01   \n",
              "551                 Success                      D01   \n",
              "552                 Success                      D01   \n",
              "553                 Success                      D01   \n",
              "554                 Success                      D01   \n",
              "555                 Success                      D01   \n",
              "\n",
              "    UserVar_taskDetailStatusLabel UserVar_branch_origin UserVar_branch_dest  \\\n",
              "550             YANG BERSANGKUTAN                   CGK                 BKI   \n",
              "551             YANG BERSANGKUTAN                   CGK                 BKI   \n",
              "552             YANG BERSANGKUTAN                   CGK                 BKI   \n",
              "553             YANG BERSANGKUTAN                   BDO                 BKI   \n",
              "554             YANG BERSANGKUTAN                   CGK                 BKI   \n",
              "555             YANG BERSANGKUTAN                   BTJ                 BKI   \n",
              "\n",
              "     UserVar_weight UserVar_receiver_city  \n",
              "550             3.0      BABELAN,CIKARANG  \n",
              "551             4.9      BABELAN,CIKARANG  \n",
              "552             8.0      BABELAN,CIKARANG  \n",
              "553            17.0      BABELAN,CIKARANG  \n",
              "554             1.0      BABELAN,CIKARANG  \n",
              "555             1.0      BABELAN,CIKARANG  "
            ],
            "text/html": [
              "\n",
              "  <div id=\"df-25719a6b-7c75-4a87-9572-61e85ca71512\">\n",
              "    <div class=\"colab-df-container\">\n",
              "      <div>\n",
              "<style scoped>\n",
              "    .dataframe tbody tr th:only-of-type {\n",
              "        vertical-align: middle;\n",
              "    }\n",
              "\n",
              "    .dataframe tbody tr th {\n",
              "        vertical-align: top;\n",
              "    }\n",
              "\n",
              "    .dataframe thead th {\n",
              "        text-align: right;\n",
              "    }\n",
              "</style>\n",
              "<table border=\"1\" class=\"dataframe\">\n",
              "  <thead>\n",
              "    <tr style=\"text-align: right;\">\n",
              "      <th></th>\n",
              "      <th>taskId</th>\n",
              "      <th>taskCreatedTime</th>\n",
              "      <th>taskCompletedTime</th>\n",
              "      <th>taskStatus</th>\n",
              "      <th>taskAssignedTo</th>\n",
              "      <th>taskLocationDone_lon</th>\n",
              "      <th>taskLocationDone_lat</th>\n",
              "      <th>flow</th>\n",
              "      <th>cod_amount</th>\n",
              "      <th>cod_received</th>\n",
              "      <th>UserVar_taskStatus</th>\n",
              "      <th>UserVar_taskStatusLabel</th>\n",
              "      <th>UserVar_taskDetailStatus</th>\n",
              "      <th>UserVar_taskDetailStatusLabel</th>\n",
              "      <th>UserVar_branch_origin</th>\n",
              "      <th>UserVar_branch_dest</th>\n",
              "      <th>UserVar_weight</th>\n",
              "      <th>UserVar_receiver_city</th>\n",
              "    </tr>\n",
              "  </thead>\n",
              "  <tbody>\n",
              "    <tr>\n",
              "      <th>550</th>\n",
              "      <td>9779ae5b5f88ba0bf31c</td>\n",
              "      <td>2022-11-01 15:04:06 +0700</td>\n",
              "      <td>NaN</td>\n",
              "      <td>done</td>\n",
              "      <td>mildCardinal0</td>\n",
              "      <td>NaN</td>\n",
              "      <td>NaN</td>\n",
              "      <td>Delivery</td>\n",
              "      <td>NaN</td>\n",
              "      <td>NaN</td>\n",
              "      <td>COLF01</td>\n",
              "      <td>Success</td>\n",
              "      <td>D01</td>\n",
              "      <td>YANG BERSANGKUTAN</td>\n",
              "      <td>CGK</td>\n",
              "      <td>BKI</td>\n",
              "      <td>3.0</td>\n",
              "      <td>BABELAN,CIKARANG</td>\n",
              "    </tr>\n",
              "    <tr>\n",
              "      <th>551</th>\n",
              "      <td>8ade827b1e3530c02e82</td>\n",
              "      <td>2022-11-01 16:59:58 +0700</td>\n",
              "      <td>NaN</td>\n",
              "      <td>done</td>\n",
              "      <td>mildCardinal0</td>\n",
              "      <td>NaN</td>\n",
              "      <td>NaN</td>\n",
              "      <td>Delivery</td>\n",
              "      <td>NaN</td>\n",
              "      <td>NaN</td>\n",
              "      <td>COLF01</td>\n",
              "      <td>Success</td>\n",
              "      <td>D01</td>\n",
              "      <td>YANG BERSANGKUTAN</td>\n",
              "      <td>CGK</td>\n",
              "      <td>BKI</td>\n",
              "      <td>4.9</td>\n",
              "      <td>BABELAN,CIKARANG</td>\n",
              "    </tr>\n",
              "    <tr>\n",
              "      <th>552</th>\n",
              "      <td>292b1e9f73099dac1209</td>\n",
              "      <td>2022-11-01 16:59:58 +0700</td>\n",
              "      <td>NaN</td>\n",
              "      <td>done</td>\n",
              "      <td>mildCardinal0</td>\n",
              "      <td>NaN</td>\n",
              "      <td>NaN</td>\n",
              "      <td>Delivery</td>\n",
              "      <td>NaN</td>\n",
              "      <td>NaN</td>\n",
              "      <td>COLF01</td>\n",
              "      <td>Success</td>\n",
              "      <td>D01</td>\n",
              "      <td>YANG BERSANGKUTAN</td>\n",
              "      <td>CGK</td>\n",
              "      <td>BKI</td>\n",
              "      <td>8.0</td>\n",
              "      <td>BABELAN,CIKARANG</td>\n",
              "    </tr>\n",
              "    <tr>\n",
              "      <th>553</th>\n",
              "      <td>7e8862b3f4010465f006</td>\n",
              "      <td>2022-11-01 16:59:58 +0700</td>\n",
              "      <td>NaN</td>\n",
              "      <td>done</td>\n",
              "      <td>mildCardinal0</td>\n",
              "      <td>NaN</td>\n",
              "      <td>NaN</td>\n",
              "      <td>Delivery</td>\n",
              "      <td>NaN</td>\n",
              "      <td>NaN</td>\n",
              "      <td>COLF01</td>\n",
              "      <td>Success</td>\n",
              "      <td>D01</td>\n",
              "      <td>YANG BERSANGKUTAN</td>\n",
              "      <td>BDO</td>\n",
              "      <td>BKI</td>\n",
              "      <td>17.0</td>\n",
              "      <td>BABELAN,CIKARANG</td>\n",
              "    </tr>\n",
              "    <tr>\n",
              "      <th>554</th>\n",
              "      <td>a4fb8aed363abc3d6af3</td>\n",
              "      <td>2022-11-01 10:13:02 +0700</td>\n",
              "      <td>NaN</td>\n",
              "      <td>done</td>\n",
              "      <td>mildCardinal0</td>\n",
              "      <td>NaN</td>\n",
              "      <td>NaN</td>\n",
              "      <td>Delivery</td>\n",
              "      <td>NaN</td>\n",
              "      <td>NaN</td>\n",
              "      <td>COLF01</td>\n",
              "      <td>Success</td>\n",
              "      <td>D01</td>\n",
              "      <td>YANG BERSANGKUTAN</td>\n",
              "      <td>CGK</td>\n",
              "      <td>BKI</td>\n",
              "      <td>1.0</td>\n",
              "      <td>BABELAN,CIKARANG</td>\n",
              "    </tr>\n",
              "    <tr>\n",
              "      <th>555</th>\n",
              "      <td>38e5d762840ec39984b1</td>\n",
              "      <td>2022-11-01 10:13:03 +0700</td>\n",
              "      <td>NaN</td>\n",
              "      <td>done</td>\n",
              "      <td>mildCardinal0</td>\n",
              "      <td>NaN</td>\n",
              "      <td>NaN</td>\n",
              "      <td>Delivery</td>\n",
              "      <td>NaN</td>\n",
              "      <td>NaN</td>\n",
              "      <td>COLF01</td>\n",
              "      <td>Success</td>\n",
              "      <td>D01</td>\n",
              "      <td>YANG BERSANGKUTAN</td>\n",
              "      <td>BTJ</td>\n",
              "      <td>BKI</td>\n",
              "      <td>1.0</td>\n",
              "      <td>BABELAN,CIKARANG</td>\n",
              "    </tr>\n",
              "  </tbody>\n",
              "</table>\n",
              "</div>\n",
              "      <button class=\"colab-df-convert\" onclick=\"convertToInteractive('df-25719a6b-7c75-4a87-9572-61e85ca71512')\"\n",
              "              title=\"Convert this dataframe to an interactive table.\"\n",
              "              style=\"display:none;\">\n",
              "        \n",
              "  <svg xmlns=\"http://www.w3.org/2000/svg\" height=\"24px\"viewBox=\"0 0 24 24\"\n",
              "       width=\"24px\">\n",
              "    <path d=\"M0 0h24v24H0V0z\" fill=\"none\"/>\n",
              "    <path d=\"M18.56 5.44l.94 2.06.94-2.06 2.06-.94-2.06-.94-.94-2.06-.94 2.06-2.06.94zm-11 1L8.5 8.5l.94-2.06 2.06-.94-2.06-.94L8.5 2.5l-.94 2.06-2.06.94zm10 10l.94 2.06.94-2.06 2.06-.94-2.06-.94-.94-2.06-.94 2.06-2.06.94z\"/><path d=\"M17.41 7.96l-1.37-1.37c-.4-.4-.92-.59-1.43-.59-.52 0-1.04.2-1.43.59L10.3 9.45l-7.72 7.72c-.78.78-.78 2.05 0 2.83L4 21.41c.39.39.9.59 1.41.59.51 0 1.02-.2 1.41-.59l7.78-7.78 2.81-2.81c.8-.78.8-2.07 0-2.86zM5.41 20L4 18.59l7.72-7.72 1.47 1.35L5.41 20z\"/>\n",
              "  </svg>\n",
              "      </button>\n",
              "      \n",
              "  <style>\n",
              "    .colab-df-container {\n",
              "      display:flex;\n",
              "      flex-wrap:wrap;\n",
              "      gap: 12px;\n",
              "    }\n",
              "\n",
              "    .colab-df-convert {\n",
              "      background-color: #E8F0FE;\n",
              "      border: none;\n",
              "      border-radius: 50%;\n",
              "      cursor: pointer;\n",
              "      display: none;\n",
              "      fill: #1967D2;\n",
              "      height: 32px;\n",
              "      padding: 0 0 0 0;\n",
              "      width: 32px;\n",
              "    }\n",
              "\n",
              "    .colab-df-convert:hover {\n",
              "      background-color: #E2EBFA;\n",
              "      box-shadow: 0px 1px 2px rgba(60, 64, 67, 0.3), 0px 1px 3px 1px rgba(60, 64, 67, 0.15);\n",
              "      fill: #174EA6;\n",
              "    }\n",
              "\n",
              "    [theme=dark] .colab-df-convert {\n",
              "      background-color: #3B4455;\n",
              "      fill: #D2E3FC;\n",
              "    }\n",
              "\n",
              "    [theme=dark] .colab-df-convert:hover {\n",
              "      background-color: #434B5C;\n",
              "      box-shadow: 0px 1px 3px 1px rgba(0, 0, 0, 0.15);\n",
              "      filter: drop-shadow(0px 1px 2px rgba(0, 0, 0, 0.3));\n",
              "      fill: #FFFFFF;\n",
              "    }\n",
              "  </style>\n",
              "\n",
              "      <script>\n",
              "        const buttonEl =\n",
              "          document.querySelector('#df-25719a6b-7c75-4a87-9572-61e85ca71512 button.colab-df-convert');\n",
              "        buttonEl.style.display =\n",
              "          google.colab.kernel.accessAllowed ? 'block' : 'none';\n",
              "\n",
              "        async function convertToInteractive(key) {\n",
              "          const element = document.querySelector('#df-25719a6b-7c75-4a87-9572-61e85ca71512');\n",
              "          const dataTable =\n",
              "            await google.colab.kernel.invokeFunction('convertToInteractive',\n",
              "                                                     [key], {});\n",
              "          if (!dataTable) return;\n",
              "\n",
              "          const docLinkHtml = 'Like what you see? Visit the ' +\n",
              "            '<a target=\"_blank\" href=https://colab.research.google.com/notebooks/data_table.ipynb>data table notebook</a>'\n",
              "            + ' to learn more about interactive tables.';\n",
              "          element.innerHTML = '';\n",
              "          dataTable['output_type'] = 'display_data';\n",
              "          await google.colab.output.renderOutput(dataTable, element);\n",
              "          const docLink = document.createElement('div');\n",
              "          docLink.innerHTML = docLinkHtml;\n",
              "          element.appendChild(docLink);\n",
              "        }\n",
              "      </script>\n",
              "    </div>\n",
              "  </div>\n",
              "  "
            ]
          },
          "metadata": {},
          "execution_count": 100
        }
      ]
    },
    {
      "cell_type": "code",
      "source": [
        "# check if the courier also have another task outside the 6 rows\n",
        "df[df['taskAssignedTo']=='mildCardinal0']"
      ],
      "metadata": {
        "colab": {
          "base_uri": "https://localhost:8080/",
          "height": 406
        },
        "id": "2PImMpofJBQ-",
        "outputId": "8b74fc73-38c0-478d-a595-db1825d63530"
      },
      "execution_count": 101,
      "outputs": [
        {
          "output_type": "execute_result",
          "data": {
            "text/plain": [
              "                   taskId            taskCreatedTime taskCompletedTime  \\\n",
              "550  9779ae5b5f88ba0bf31c  2022-11-01 15:04:06 +0700               NaN   \n",
              "551  8ade827b1e3530c02e82  2022-11-01 16:59:58 +0700               NaN   \n",
              "552  292b1e9f73099dac1209  2022-11-01 16:59:58 +0700               NaN   \n",
              "553  7e8862b3f4010465f006  2022-11-01 16:59:58 +0700               NaN   \n",
              "554  a4fb8aed363abc3d6af3  2022-11-01 10:13:02 +0700               NaN   \n",
              "555  38e5d762840ec39984b1  2022-11-01 10:13:03 +0700               NaN   \n",
              "\n",
              "    taskStatus taskAssignedTo  taskLocationDone_lon  taskLocationDone_lat  \\\n",
              "550       done  mildCardinal0                   NaN                   NaN   \n",
              "551       done  mildCardinal0                   NaN                   NaN   \n",
              "552       done  mildCardinal0                   NaN                   NaN   \n",
              "553       done  mildCardinal0                   NaN                   NaN   \n",
              "554       done  mildCardinal0                   NaN                   NaN   \n",
              "555       done  mildCardinal0                   NaN                   NaN   \n",
              "\n",
              "         flow  cod_amount cod_received UserVar_taskStatus  \\\n",
              "550  Delivery         NaN          NaN             COLF01   \n",
              "551  Delivery         NaN          NaN             COLF01   \n",
              "552  Delivery         NaN          NaN             COLF01   \n",
              "553  Delivery         NaN          NaN             COLF01   \n",
              "554  Delivery         NaN          NaN             COLF01   \n",
              "555  Delivery         NaN          NaN             COLF01   \n",
              "\n",
              "    UserVar_taskStatusLabel UserVar_taskDetailStatus  \\\n",
              "550                 Success                      D01   \n",
              "551                 Success                      D01   \n",
              "552                 Success                      D01   \n",
              "553                 Success                      D01   \n",
              "554                 Success                      D01   \n",
              "555                 Success                      D01   \n",
              "\n",
              "    UserVar_taskDetailStatusLabel UserVar_branch_origin UserVar_branch_dest  \\\n",
              "550             YANG BERSANGKUTAN                   CGK                 BKI   \n",
              "551             YANG BERSANGKUTAN                   CGK                 BKI   \n",
              "552             YANG BERSANGKUTAN                   CGK                 BKI   \n",
              "553             YANG BERSANGKUTAN                   BDO                 BKI   \n",
              "554             YANG BERSANGKUTAN                   CGK                 BKI   \n",
              "555             YANG BERSANGKUTAN                   BTJ                 BKI   \n",
              "\n",
              "     UserVar_weight UserVar_receiver_city  \n",
              "550             3.0      BABELAN,CIKARANG  \n",
              "551             4.9      BABELAN,CIKARANG  \n",
              "552             8.0      BABELAN,CIKARANG  \n",
              "553            17.0      BABELAN,CIKARANG  \n",
              "554             1.0      BABELAN,CIKARANG  \n",
              "555             1.0      BABELAN,CIKARANG  "
            ],
            "text/html": [
              "\n",
              "  <div id=\"df-52963144-db6e-480d-bf9b-40567a8d757f\">\n",
              "    <div class=\"colab-df-container\">\n",
              "      <div>\n",
              "<style scoped>\n",
              "    .dataframe tbody tr th:only-of-type {\n",
              "        vertical-align: middle;\n",
              "    }\n",
              "\n",
              "    .dataframe tbody tr th {\n",
              "        vertical-align: top;\n",
              "    }\n",
              "\n",
              "    .dataframe thead th {\n",
              "        text-align: right;\n",
              "    }\n",
              "</style>\n",
              "<table border=\"1\" class=\"dataframe\">\n",
              "  <thead>\n",
              "    <tr style=\"text-align: right;\">\n",
              "      <th></th>\n",
              "      <th>taskId</th>\n",
              "      <th>taskCreatedTime</th>\n",
              "      <th>taskCompletedTime</th>\n",
              "      <th>taskStatus</th>\n",
              "      <th>taskAssignedTo</th>\n",
              "      <th>taskLocationDone_lon</th>\n",
              "      <th>taskLocationDone_lat</th>\n",
              "      <th>flow</th>\n",
              "      <th>cod_amount</th>\n",
              "      <th>cod_received</th>\n",
              "      <th>UserVar_taskStatus</th>\n",
              "      <th>UserVar_taskStatusLabel</th>\n",
              "      <th>UserVar_taskDetailStatus</th>\n",
              "      <th>UserVar_taskDetailStatusLabel</th>\n",
              "      <th>UserVar_branch_origin</th>\n",
              "      <th>UserVar_branch_dest</th>\n",
              "      <th>UserVar_weight</th>\n",
              "      <th>UserVar_receiver_city</th>\n",
              "    </tr>\n",
              "  </thead>\n",
              "  <tbody>\n",
              "    <tr>\n",
              "      <th>550</th>\n",
              "      <td>9779ae5b5f88ba0bf31c</td>\n",
              "      <td>2022-11-01 15:04:06 +0700</td>\n",
              "      <td>NaN</td>\n",
              "      <td>done</td>\n",
              "      <td>mildCardinal0</td>\n",
              "      <td>NaN</td>\n",
              "      <td>NaN</td>\n",
              "      <td>Delivery</td>\n",
              "      <td>NaN</td>\n",
              "      <td>NaN</td>\n",
              "      <td>COLF01</td>\n",
              "      <td>Success</td>\n",
              "      <td>D01</td>\n",
              "      <td>YANG BERSANGKUTAN</td>\n",
              "      <td>CGK</td>\n",
              "      <td>BKI</td>\n",
              "      <td>3.0</td>\n",
              "      <td>BABELAN,CIKARANG</td>\n",
              "    </tr>\n",
              "    <tr>\n",
              "      <th>551</th>\n",
              "      <td>8ade827b1e3530c02e82</td>\n",
              "      <td>2022-11-01 16:59:58 +0700</td>\n",
              "      <td>NaN</td>\n",
              "      <td>done</td>\n",
              "      <td>mildCardinal0</td>\n",
              "      <td>NaN</td>\n",
              "      <td>NaN</td>\n",
              "      <td>Delivery</td>\n",
              "      <td>NaN</td>\n",
              "      <td>NaN</td>\n",
              "      <td>COLF01</td>\n",
              "      <td>Success</td>\n",
              "      <td>D01</td>\n",
              "      <td>YANG BERSANGKUTAN</td>\n",
              "      <td>CGK</td>\n",
              "      <td>BKI</td>\n",
              "      <td>4.9</td>\n",
              "      <td>BABELAN,CIKARANG</td>\n",
              "    </tr>\n",
              "    <tr>\n",
              "      <th>552</th>\n",
              "      <td>292b1e9f73099dac1209</td>\n",
              "      <td>2022-11-01 16:59:58 +0700</td>\n",
              "      <td>NaN</td>\n",
              "      <td>done</td>\n",
              "      <td>mildCardinal0</td>\n",
              "      <td>NaN</td>\n",
              "      <td>NaN</td>\n",
              "      <td>Delivery</td>\n",
              "      <td>NaN</td>\n",
              "      <td>NaN</td>\n",
              "      <td>COLF01</td>\n",
              "      <td>Success</td>\n",
              "      <td>D01</td>\n",
              "      <td>YANG BERSANGKUTAN</td>\n",
              "      <td>CGK</td>\n",
              "      <td>BKI</td>\n",
              "      <td>8.0</td>\n",
              "      <td>BABELAN,CIKARANG</td>\n",
              "    </tr>\n",
              "    <tr>\n",
              "      <th>553</th>\n",
              "      <td>7e8862b3f4010465f006</td>\n",
              "      <td>2022-11-01 16:59:58 +0700</td>\n",
              "      <td>NaN</td>\n",
              "      <td>done</td>\n",
              "      <td>mildCardinal0</td>\n",
              "      <td>NaN</td>\n",
              "      <td>NaN</td>\n",
              "      <td>Delivery</td>\n",
              "      <td>NaN</td>\n",
              "      <td>NaN</td>\n",
              "      <td>COLF01</td>\n",
              "      <td>Success</td>\n",
              "      <td>D01</td>\n",
              "      <td>YANG BERSANGKUTAN</td>\n",
              "      <td>BDO</td>\n",
              "      <td>BKI</td>\n",
              "      <td>17.0</td>\n",
              "      <td>BABELAN,CIKARANG</td>\n",
              "    </tr>\n",
              "    <tr>\n",
              "      <th>554</th>\n",
              "      <td>a4fb8aed363abc3d6af3</td>\n",
              "      <td>2022-11-01 10:13:02 +0700</td>\n",
              "      <td>NaN</td>\n",
              "      <td>done</td>\n",
              "      <td>mildCardinal0</td>\n",
              "      <td>NaN</td>\n",
              "      <td>NaN</td>\n",
              "      <td>Delivery</td>\n",
              "      <td>NaN</td>\n",
              "      <td>NaN</td>\n",
              "      <td>COLF01</td>\n",
              "      <td>Success</td>\n",
              "      <td>D01</td>\n",
              "      <td>YANG BERSANGKUTAN</td>\n",
              "      <td>CGK</td>\n",
              "      <td>BKI</td>\n",
              "      <td>1.0</td>\n",
              "      <td>BABELAN,CIKARANG</td>\n",
              "    </tr>\n",
              "    <tr>\n",
              "      <th>555</th>\n",
              "      <td>38e5d762840ec39984b1</td>\n",
              "      <td>2022-11-01 10:13:03 +0700</td>\n",
              "      <td>NaN</td>\n",
              "      <td>done</td>\n",
              "      <td>mildCardinal0</td>\n",
              "      <td>NaN</td>\n",
              "      <td>NaN</td>\n",
              "      <td>Delivery</td>\n",
              "      <td>NaN</td>\n",
              "      <td>NaN</td>\n",
              "      <td>COLF01</td>\n",
              "      <td>Success</td>\n",
              "      <td>D01</td>\n",
              "      <td>YANG BERSANGKUTAN</td>\n",
              "      <td>BTJ</td>\n",
              "      <td>BKI</td>\n",
              "      <td>1.0</td>\n",
              "      <td>BABELAN,CIKARANG</td>\n",
              "    </tr>\n",
              "  </tbody>\n",
              "</table>\n",
              "</div>\n",
              "      <button class=\"colab-df-convert\" onclick=\"convertToInteractive('df-52963144-db6e-480d-bf9b-40567a8d757f')\"\n",
              "              title=\"Convert this dataframe to an interactive table.\"\n",
              "              style=\"display:none;\">\n",
              "        \n",
              "  <svg xmlns=\"http://www.w3.org/2000/svg\" height=\"24px\"viewBox=\"0 0 24 24\"\n",
              "       width=\"24px\">\n",
              "    <path d=\"M0 0h24v24H0V0z\" fill=\"none\"/>\n",
              "    <path d=\"M18.56 5.44l.94 2.06.94-2.06 2.06-.94-2.06-.94-.94-2.06-.94 2.06-2.06.94zm-11 1L8.5 8.5l.94-2.06 2.06-.94-2.06-.94L8.5 2.5l-.94 2.06-2.06.94zm10 10l.94 2.06.94-2.06 2.06-.94-2.06-.94-.94-2.06-.94 2.06-2.06.94z\"/><path d=\"M17.41 7.96l-1.37-1.37c-.4-.4-.92-.59-1.43-.59-.52 0-1.04.2-1.43.59L10.3 9.45l-7.72 7.72c-.78.78-.78 2.05 0 2.83L4 21.41c.39.39.9.59 1.41.59.51 0 1.02-.2 1.41-.59l7.78-7.78 2.81-2.81c.8-.78.8-2.07 0-2.86zM5.41 20L4 18.59l7.72-7.72 1.47 1.35L5.41 20z\"/>\n",
              "  </svg>\n",
              "      </button>\n",
              "      \n",
              "  <style>\n",
              "    .colab-df-container {\n",
              "      display:flex;\n",
              "      flex-wrap:wrap;\n",
              "      gap: 12px;\n",
              "    }\n",
              "\n",
              "    .colab-df-convert {\n",
              "      background-color: #E8F0FE;\n",
              "      border: none;\n",
              "      border-radius: 50%;\n",
              "      cursor: pointer;\n",
              "      display: none;\n",
              "      fill: #1967D2;\n",
              "      height: 32px;\n",
              "      padding: 0 0 0 0;\n",
              "      width: 32px;\n",
              "    }\n",
              "\n",
              "    .colab-df-convert:hover {\n",
              "      background-color: #E2EBFA;\n",
              "      box-shadow: 0px 1px 2px rgba(60, 64, 67, 0.3), 0px 1px 3px 1px rgba(60, 64, 67, 0.15);\n",
              "      fill: #174EA6;\n",
              "    }\n",
              "\n",
              "    [theme=dark] .colab-df-convert {\n",
              "      background-color: #3B4455;\n",
              "      fill: #D2E3FC;\n",
              "    }\n",
              "\n",
              "    [theme=dark] .colab-df-convert:hover {\n",
              "      background-color: #434B5C;\n",
              "      box-shadow: 0px 1px 3px 1px rgba(0, 0, 0, 0.15);\n",
              "      filter: drop-shadow(0px 1px 2px rgba(0, 0, 0, 0.3));\n",
              "      fill: #FFFFFF;\n",
              "    }\n",
              "  </style>\n",
              "\n",
              "      <script>\n",
              "        const buttonEl =\n",
              "          document.querySelector('#df-52963144-db6e-480d-bf9b-40567a8d757f button.colab-df-convert');\n",
              "        buttonEl.style.display =\n",
              "          google.colab.kernel.accessAllowed ? 'block' : 'none';\n",
              "\n",
              "        async function convertToInteractive(key) {\n",
              "          const element = document.querySelector('#df-52963144-db6e-480d-bf9b-40567a8d757f');\n",
              "          const dataTable =\n",
              "            await google.colab.kernel.invokeFunction('convertToInteractive',\n",
              "                                                     [key], {});\n",
              "          if (!dataTable) return;\n",
              "\n",
              "          const docLinkHtml = 'Like what you see? Visit the ' +\n",
              "            '<a target=\"_blank\" href=https://colab.research.google.com/notebooks/data_table.ipynb>data table notebook</a>'\n",
              "            + ' to learn more about interactive tables.';\n",
              "          element.innerHTML = '';\n",
              "          dataTable['output_type'] = 'display_data';\n",
              "          await google.colab.output.renderOutput(dataTable, element);\n",
              "          const docLink = document.createElement('div');\n",
              "          docLink.innerHTML = docLinkHtml;\n",
              "          element.appendChild(docLink);\n",
              "        }\n",
              "      </script>\n",
              "    </div>\n",
              "  </div>\n",
              "  "
            ]
          },
          "metadata": {},
          "execution_count": 101
        }
      ]
    },
    {
      "cell_type": "markdown",
      "source": [
        "impute missing values on taskCompletedTime"
      ],
      "metadata": {
        "id": "IrGMpz6ti2Kz"
      }
    },
    {
      "cell_type": "code",
      "source": [
        "# fill the missing values for taskCompletedTime with taskCreatedTime -> duration will be 0\n",
        "df['taskCompletedTime'] = df['taskCompletedTime'].fillna(df['taskCreatedTime'])"
      ],
      "metadata": {
        "id": "uEB0M0YzuNU7"
      },
      "execution_count": 102,
      "outputs": []
    },
    {
      "cell_type": "code",
      "source": [
        "df['taskCreatedTime'] = pd.to_datetime(df['taskCreatedTime'], format=\"%Y-%m-%d %H:%M:%S %z\", utc=True)\n",
        "df['taskCompletedTime'] = pd.to_datetime(df['taskCompletedTime'], format=\"%Y-%m-%d %H:%M:%S %z\", utc=True)"
      ],
      "metadata": {
        "id": "selB2ISCPbfG"
      },
      "execution_count": 103,
      "outputs": []
    },
    {
      "cell_type": "code",
      "source": [
        "# Set the desired UTC offset\n",
        "target_offset = '+07:00'\n",
        "\n",
        "df['taskCreatedTime'] = df['taskCreatedTime'].dt.tz_convert(target_offset)\n",
        "df['taskCompletedTime'] = df['taskCompletedTime'].dt.tz_convert(target_offset)"
      ],
      "metadata": {
        "id": "v6mN2RoiLhVJ"
      },
      "execution_count": 104,
      "outputs": []
    },
    {
      "cell_type": "code",
      "source": [
        "df.info()"
      ],
      "metadata": {
        "colab": {
          "base_uri": "https://localhost:8080/"
        },
        "id": "PupX9EpKKoW5",
        "outputId": "3b736469-4882-4b15-f28f-8fa214df016d"
      },
      "execution_count": 105,
      "outputs": [
        {
          "output_type": "stream",
          "name": "stdout",
          "text": [
            "<class 'pandas.core.frame.DataFrame'>\n",
            "RangeIndex: 8334 entries, 0 to 8333\n",
            "Data columns (total 18 columns):\n",
            " #   Column                         Non-Null Count  Dtype                    \n",
            "---  ------                         --------------  -----                    \n",
            " 0   taskId                         8334 non-null   object                   \n",
            " 1   taskCreatedTime                8334 non-null   datetime64[ns, UTC+07:00]\n",
            " 2   taskCompletedTime              8334 non-null   datetime64[ns, UTC+07:00]\n",
            " 3   taskStatus                     8334 non-null   object                   \n",
            " 4   taskAssignedTo                 8333 non-null   object                   \n",
            " 5   taskLocationDone_lon           7566 non-null   float64                  \n",
            " 6   taskLocationDone_lat           7566 non-null   float64                  \n",
            " 7   flow                           8334 non-null   object                   \n",
            " 8   cod_amount                     2358 non-null   float64                  \n",
            " 9   cod_received                   2358 non-null   object                   \n",
            " 10  UserVar_taskStatus             7572 non-null   object                   \n",
            " 11  UserVar_taskStatusLabel        7572 non-null   object                   \n",
            " 12  UserVar_taskDetailStatus       7572 non-null   object                   \n",
            " 13  UserVar_taskDetailStatusLabel  7572 non-null   object                   \n",
            " 14  UserVar_branch_origin          8041 non-null   object                   \n",
            " 15  UserVar_branch_dest            8334 non-null   object                   \n",
            " 16  UserVar_weight                 8334 non-null   float64                  \n",
            " 17  UserVar_receiver_city          8282 non-null   object                   \n",
            "dtypes: datetime64[ns, UTC+07:00](2), float64(4), object(12)\n",
            "memory usage: 1.1+ MB\n"
          ]
        }
      ]
    },
    {
      "cell_type": "code",
      "source": [
        "df.head()"
      ],
      "metadata": {
        "colab": {
          "base_uri": "https://localhost:8080/",
          "height": 357
        },
        "id": "MPEL4clru140",
        "outputId": "e1176afb-adf1-4092-9fba-a0757a58c9d4"
      },
      "execution_count": 106,
      "outputs": [
        {
          "output_type": "execute_result",
          "data": {
            "text/plain": [
              "                 taskId           taskCreatedTime         taskCompletedTime  \\\n",
              "0  4fe3b237c832ca4841a2 2022-11-01 20:17:26+07:00 2022-11-01 20:46:30+07:00   \n",
              "1  08a4da25256affae8446 2022-11-01 08:41:07+07:00 2022-11-01 12:33:48+07:00   \n",
              "2  2ff0dc469826158b7684 2022-11-01 08:41:07+07:00 2022-11-01 13:41:57+07:00   \n",
              "3  331c172c2b383f774328 2022-11-01 08:41:07+07:00 2022-11-01 18:18:19+07:00   \n",
              "4  a9d53fa96c80baee8b23 2022-11-01 08:41:07+07:00 2022-11-01 10:51:49+07:00   \n",
              "\n",
              "  taskStatus  taskAssignedTo  taskLocationDone_lon  taskLocationDone_lat  \\\n",
              "0       done   pacifiedLion0            109.762910             -6.926608   \n",
              "1       done  peacefulTacos6            110.033986             -7.876154   \n",
              "2       done  peacefulTacos6            109.999733             -7.849777   \n",
              "3       done  peacefulTacos6            110.003708             -7.710998   \n",
              "4       done  peacefulTacos6            110.013887             -7.829742   \n",
              "\n",
              "       flow  cod_amount cod_received UserVar_taskStatus  \\\n",
              "0  Delivery    685000.0         True             COLF01   \n",
              "1  Delivery     53500.0         True             COLF01   \n",
              "2  Delivery    179500.0         True             COLF01   \n",
              "3  Delivery     31815.0         True             COLF01   \n",
              "4  Delivery    144562.0         True             COLF01   \n",
              "\n",
              "  UserVar_taskStatusLabel UserVar_taskDetailStatus  \\\n",
              "0                 Success                      D01   \n",
              "1                 Success                      D01   \n",
              "2                 Success                      D01   \n",
              "3                 Success                      D01   \n",
              "4                 Success                      D01   \n",
              "\n",
              "  UserVar_taskDetailStatusLabel UserVar_branch_origin UserVar_branch_dest  \\\n",
              "0             YANG BERSANGKUTAN                   CGK                 SRG   \n",
              "1             YANG BERSANGKUTAN                   CGK                 MGL   \n",
              "2             YANG BERSANGKUTAN                   CGK                 MGL   \n",
              "3             YANG BERSANGKUTAN                   CGK                 MGL   \n",
              "4             YANG BERSANGKUTAN                   CGK                 MGL   \n",
              "\n",
              "   UserVar_weight UserVar_receiver_city  \n",
              "0          13.000    BATANG ,KAB BATANG  \n",
              "1           1.300   PURWODADI,PURWOREJO  \n",
              "2           3.000   PURWODADI,PURWOREJO  \n",
              "3           0.625   PURWODADI,PURWOREJO  \n",
              "4           3.000     BAGELEN,PURWOREJO  "
            ],
            "text/html": [
              "\n",
              "  <div id=\"df-1654f60e-da10-422c-b14d-51d2724c9e19\">\n",
              "    <div class=\"colab-df-container\">\n",
              "      <div>\n",
              "<style scoped>\n",
              "    .dataframe tbody tr th:only-of-type {\n",
              "        vertical-align: middle;\n",
              "    }\n",
              "\n",
              "    .dataframe tbody tr th {\n",
              "        vertical-align: top;\n",
              "    }\n",
              "\n",
              "    .dataframe thead th {\n",
              "        text-align: right;\n",
              "    }\n",
              "</style>\n",
              "<table border=\"1\" class=\"dataframe\">\n",
              "  <thead>\n",
              "    <tr style=\"text-align: right;\">\n",
              "      <th></th>\n",
              "      <th>taskId</th>\n",
              "      <th>taskCreatedTime</th>\n",
              "      <th>taskCompletedTime</th>\n",
              "      <th>taskStatus</th>\n",
              "      <th>taskAssignedTo</th>\n",
              "      <th>taskLocationDone_lon</th>\n",
              "      <th>taskLocationDone_lat</th>\n",
              "      <th>flow</th>\n",
              "      <th>cod_amount</th>\n",
              "      <th>cod_received</th>\n",
              "      <th>UserVar_taskStatus</th>\n",
              "      <th>UserVar_taskStatusLabel</th>\n",
              "      <th>UserVar_taskDetailStatus</th>\n",
              "      <th>UserVar_taskDetailStatusLabel</th>\n",
              "      <th>UserVar_branch_origin</th>\n",
              "      <th>UserVar_branch_dest</th>\n",
              "      <th>UserVar_weight</th>\n",
              "      <th>UserVar_receiver_city</th>\n",
              "    </tr>\n",
              "  </thead>\n",
              "  <tbody>\n",
              "    <tr>\n",
              "      <th>0</th>\n",
              "      <td>4fe3b237c832ca4841a2</td>\n",
              "      <td>2022-11-01 20:17:26+07:00</td>\n",
              "      <td>2022-11-01 20:46:30+07:00</td>\n",
              "      <td>done</td>\n",
              "      <td>pacifiedLion0</td>\n",
              "      <td>109.762910</td>\n",
              "      <td>-6.926608</td>\n",
              "      <td>Delivery</td>\n",
              "      <td>685000.0</td>\n",
              "      <td>True</td>\n",
              "      <td>COLF01</td>\n",
              "      <td>Success</td>\n",
              "      <td>D01</td>\n",
              "      <td>YANG BERSANGKUTAN</td>\n",
              "      <td>CGK</td>\n",
              "      <td>SRG</td>\n",
              "      <td>13.000</td>\n",
              "      <td>BATANG ,KAB BATANG</td>\n",
              "    </tr>\n",
              "    <tr>\n",
              "      <th>1</th>\n",
              "      <td>08a4da25256affae8446</td>\n",
              "      <td>2022-11-01 08:41:07+07:00</td>\n",
              "      <td>2022-11-01 12:33:48+07:00</td>\n",
              "      <td>done</td>\n",
              "      <td>peacefulTacos6</td>\n",
              "      <td>110.033986</td>\n",
              "      <td>-7.876154</td>\n",
              "      <td>Delivery</td>\n",
              "      <td>53500.0</td>\n",
              "      <td>True</td>\n",
              "      <td>COLF01</td>\n",
              "      <td>Success</td>\n",
              "      <td>D01</td>\n",
              "      <td>YANG BERSANGKUTAN</td>\n",
              "      <td>CGK</td>\n",
              "      <td>MGL</td>\n",
              "      <td>1.300</td>\n",
              "      <td>PURWODADI,PURWOREJO</td>\n",
              "    </tr>\n",
              "    <tr>\n",
              "      <th>2</th>\n",
              "      <td>2ff0dc469826158b7684</td>\n",
              "      <td>2022-11-01 08:41:07+07:00</td>\n",
              "      <td>2022-11-01 13:41:57+07:00</td>\n",
              "      <td>done</td>\n",
              "      <td>peacefulTacos6</td>\n",
              "      <td>109.999733</td>\n",
              "      <td>-7.849777</td>\n",
              "      <td>Delivery</td>\n",
              "      <td>179500.0</td>\n",
              "      <td>True</td>\n",
              "      <td>COLF01</td>\n",
              "      <td>Success</td>\n",
              "      <td>D01</td>\n",
              "      <td>YANG BERSANGKUTAN</td>\n",
              "      <td>CGK</td>\n",
              "      <td>MGL</td>\n",
              "      <td>3.000</td>\n",
              "      <td>PURWODADI,PURWOREJO</td>\n",
              "    </tr>\n",
              "    <tr>\n",
              "      <th>3</th>\n",
              "      <td>331c172c2b383f774328</td>\n",
              "      <td>2022-11-01 08:41:07+07:00</td>\n",
              "      <td>2022-11-01 18:18:19+07:00</td>\n",
              "      <td>done</td>\n",
              "      <td>peacefulTacos6</td>\n",
              "      <td>110.003708</td>\n",
              "      <td>-7.710998</td>\n",
              "      <td>Delivery</td>\n",
              "      <td>31815.0</td>\n",
              "      <td>True</td>\n",
              "      <td>COLF01</td>\n",
              "      <td>Success</td>\n",
              "      <td>D01</td>\n",
              "      <td>YANG BERSANGKUTAN</td>\n",
              "      <td>CGK</td>\n",
              "      <td>MGL</td>\n",
              "      <td>0.625</td>\n",
              "      <td>PURWODADI,PURWOREJO</td>\n",
              "    </tr>\n",
              "    <tr>\n",
              "      <th>4</th>\n",
              "      <td>a9d53fa96c80baee8b23</td>\n",
              "      <td>2022-11-01 08:41:07+07:00</td>\n",
              "      <td>2022-11-01 10:51:49+07:00</td>\n",
              "      <td>done</td>\n",
              "      <td>peacefulTacos6</td>\n",
              "      <td>110.013887</td>\n",
              "      <td>-7.829742</td>\n",
              "      <td>Delivery</td>\n",
              "      <td>144562.0</td>\n",
              "      <td>True</td>\n",
              "      <td>COLF01</td>\n",
              "      <td>Success</td>\n",
              "      <td>D01</td>\n",
              "      <td>YANG BERSANGKUTAN</td>\n",
              "      <td>CGK</td>\n",
              "      <td>MGL</td>\n",
              "      <td>3.000</td>\n",
              "      <td>BAGELEN,PURWOREJO</td>\n",
              "    </tr>\n",
              "  </tbody>\n",
              "</table>\n",
              "</div>\n",
              "      <button class=\"colab-df-convert\" onclick=\"convertToInteractive('df-1654f60e-da10-422c-b14d-51d2724c9e19')\"\n",
              "              title=\"Convert this dataframe to an interactive table.\"\n",
              "              style=\"display:none;\">\n",
              "        \n",
              "  <svg xmlns=\"http://www.w3.org/2000/svg\" height=\"24px\"viewBox=\"0 0 24 24\"\n",
              "       width=\"24px\">\n",
              "    <path d=\"M0 0h24v24H0V0z\" fill=\"none\"/>\n",
              "    <path d=\"M18.56 5.44l.94 2.06.94-2.06 2.06-.94-2.06-.94-.94-2.06-.94 2.06-2.06.94zm-11 1L8.5 8.5l.94-2.06 2.06-.94-2.06-.94L8.5 2.5l-.94 2.06-2.06.94zm10 10l.94 2.06.94-2.06 2.06-.94-2.06-.94-.94-2.06-.94 2.06-2.06.94z\"/><path d=\"M17.41 7.96l-1.37-1.37c-.4-.4-.92-.59-1.43-.59-.52 0-1.04.2-1.43.59L10.3 9.45l-7.72 7.72c-.78.78-.78 2.05 0 2.83L4 21.41c.39.39.9.59 1.41.59.51 0 1.02-.2 1.41-.59l7.78-7.78 2.81-2.81c.8-.78.8-2.07 0-2.86zM5.41 20L4 18.59l7.72-7.72 1.47 1.35L5.41 20z\"/>\n",
              "  </svg>\n",
              "      </button>\n",
              "      \n",
              "  <style>\n",
              "    .colab-df-container {\n",
              "      display:flex;\n",
              "      flex-wrap:wrap;\n",
              "      gap: 12px;\n",
              "    }\n",
              "\n",
              "    .colab-df-convert {\n",
              "      background-color: #E8F0FE;\n",
              "      border: none;\n",
              "      border-radius: 50%;\n",
              "      cursor: pointer;\n",
              "      display: none;\n",
              "      fill: #1967D2;\n",
              "      height: 32px;\n",
              "      padding: 0 0 0 0;\n",
              "      width: 32px;\n",
              "    }\n",
              "\n",
              "    .colab-df-convert:hover {\n",
              "      background-color: #E2EBFA;\n",
              "      box-shadow: 0px 1px 2px rgba(60, 64, 67, 0.3), 0px 1px 3px 1px rgba(60, 64, 67, 0.15);\n",
              "      fill: #174EA6;\n",
              "    }\n",
              "\n",
              "    [theme=dark] .colab-df-convert {\n",
              "      background-color: #3B4455;\n",
              "      fill: #D2E3FC;\n",
              "    }\n",
              "\n",
              "    [theme=dark] .colab-df-convert:hover {\n",
              "      background-color: #434B5C;\n",
              "      box-shadow: 0px 1px 3px 1px rgba(0, 0, 0, 0.15);\n",
              "      filter: drop-shadow(0px 1px 2px rgba(0, 0, 0, 0.3));\n",
              "      fill: #FFFFFF;\n",
              "    }\n",
              "  </style>\n",
              "\n",
              "      <script>\n",
              "        const buttonEl =\n",
              "          document.querySelector('#df-1654f60e-da10-422c-b14d-51d2724c9e19 button.colab-df-convert');\n",
              "        buttonEl.style.display =\n",
              "          google.colab.kernel.accessAllowed ? 'block' : 'none';\n",
              "\n",
              "        async function convertToInteractive(key) {\n",
              "          const element = document.querySelector('#df-1654f60e-da10-422c-b14d-51d2724c9e19');\n",
              "          const dataTable =\n",
              "            await google.colab.kernel.invokeFunction('convertToInteractive',\n",
              "                                                     [key], {});\n",
              "          if (!dataTable) return;\n",
              "\n",
              "          const docLinkHtml = 'Like what you see? Visit the ' +\n",
              "            '<a target=\"_blank\" href=https://colab.research.google.com/notebooks/data_table.ipynb>data table notebook</a>'\n",
              "            + ' to learn more about interactive tables.';\n",
              "          element.innerHTML = '';\n",
              "          dataTable['output_type'] = 'display_data';\n",
              "          await google.colab.output.renderOutput(dataTable, element);\n",
              "          const docLink = document.createElement('div');\n",
              "          docLink.innerHTML = docLinkHtml;\n",
              "          element.appendChild(docLink);\n",
              "        }\n",
              "      </script>\n",
              "    </div>\n",
              "  </div>\n",
              "  "
            ]
          },
          "metadata": {},
          "execution_count": 106
        }
      ]
    },
    {
      "cell_type": "markdown",
      "source": [
        "## Construct Features"
      ],
      "metadata": {
        "id": "_LAw9jfQjPqu"
      }
    },
    {
      "cell_type": "code",
      "source": [
        "# get date for each task\n",
        "df['createdDate'] = pd.to_datetime(df['taskCreatedTime']).dt.date"
      ],
      "metadata": {
        "id": "rD0FXopPN6x3"
      },
      "execution_count": 113,
      "outputs": []
    },
    {
      "cell_type": "code",
      "source": [
        "# get duration for each task (minutes)\n",
        "df['taskDuration'] = (df['taskCompletedTime'] - df['taskCreatedTime']).dt.total_seconds() / 60"
      ],
      "metadata": {
        "id": "Dwcxkx1OBkkd"
      },
      "execution_count": 107,
      "outputs": []
    },
    {
      "cell_type": "code",
      "source": [
        "# get day of week \n",
        "# 0 = Monday\n",
        "df['createdDow'] = df['taskCreatedTime'].dt.dayofweek\n",
        "df['completedDow'] = df['taskCompletedTime'].dt.dayofweek"
      ],
      "metadata": {
        "id": "WSt7_ArvsWhe"
      },
      "execution_count": 108,
      "outputs": []
    },
    {
      "cell_type": "code",
      "source": [
        "# get hour\n",
        "df['createdHour'] = df['taskCreatedTime'].dt.hour\n",
        "df['completedHour'] = df['taskCompletedTime'].dt.hour"
      ],
      "metadata": {
        "id": "rsqA1KAktV_q"
      },
      "execution_count": 109,
      "outputs": []
    },
    {
      "cell_type": "code",
      "source": [
        "df"
      ],
      "metadata": {
        "colab": {
          "base_uri": "https://localhost:8080/",
          "height": 661
        },
        "id": "-2oZSXc2H7MO",
        "outputId": "04ecb800-7bb7-4e5a-cbbc-5627581d8510"
      },
      "execution_count": 114,
      "outputs": [
        {
          "output_type": "execute_result",
          "data": {
            "text/plain": [
              "                    taskId           taskCreatedTime  \\\n",
              "0     4fe3b237c832ca4841a2 2022-11-01 20:17:26+07:00   \n",
              "1     08a4da25256affae8446 2022-11-01 08:41:07+07:00   \n",
              "2     2ff0dc469826158b7684 2022-11-01 08:41:07+07:00   \n",
              "3     331c172c2b383f774328 2022-11-01 08:41:07+07:00   \n",
              "4     a9d53fa96c80baee8b23 2022-11-01 08:41:07+07:00   \n",
              "...                    ...                       ...   \n",
              "8329  501af4e040a742e9e878 2022-11-10 09:07:12+07:00   \n",
              "8330  5cc952d9e9f8066dbf24 2022-11-10 09:21:42+07:00   \n",
              "8331  1b136b5a3c60749eb571 2022-11-10 09:36:44+07:00   \n",
              "8332  e92e813c8539080c922e 2022-11-10 07:25:40+07:00   \n",
              "8333  cdb90c597655282306fd 2022-11-10 07:46:13+07:00   \n",
              "\n",
              "             taskCompletedTime taskStatus  taskAssignedTo  \\\n",
              "0    2022-11-01 20:46:30+07:00       done   pacifiedLion0   \n",
              "1    2022-11-01 12:33:48+07:00       done  peacefulTacos6   \n",
              "2    2022-11-01 13:41:57+07:00       done  peacefulTacos6   \n",
              "3    2022-11-01 18:18:19+07:00       done  peacefulTacos6   \n",
              "4    2022-11-01 10:51:49+07:00       done  peacefulTacos6   \n",
              "...                        ...        ...             ...   \n",
              "8329 2022-11-10 09:38:04+07:00       done  debonairPonie1   \n",
              "8330 2022-11-10 09:37:52+07:00       done   murkyThrushe3   \n",
              "8331 2022-11-10 09:37:55+07:00       done    enragedCake7   \n",
              "8332 2022-11-10 09:37:53+07:00       done    lyingPaella2   \n",
              "8333 2022-11-10 09:37:50+07:00       done  emptyPretzels3   \n",
              "\n",
              "      taskLocationDone_lon  taskLocationDone_lat      flow  cod_amount  \\\n",
              "0               109.762910             -6.926608  Delivery    685000.0   \n",
              "1               110.033986             -7.876154  Delivery     53500.0   \n",
              "2               109.999733             -7.849777  Delivery    179500.0   \n",
              "3               110.003708             -7.710998  Delivery     31815.0   \n",
              "4               110.013887             -7.829742  Delivery    144562.0   \n",
              "...                    ...                   ...       ...         ...   \n",
              "8329              0.000000              0.000000  Delivery         NaN   \n",
              "8330            110.352054             -7.892571  Delivery         NaN   \n",
              "8331            105.664897             -5.359063  Delivery         NaN   \n",
              "8332            119.877173             -8.513305  Delivery    151000.0   \n",
              "8333              0.000000              0.000000  Delivery         NaN   \n",
              "\n",
              "     cod_received  ... UserVar_branch_origin UserVar_branch_dest  \\\n",
              "0            True  ...                   CGK                 SRG   \n",
              "1            True  ...                   CGK                 MGL   \n",
              "2            True  ...                   CGK                 MGL   \n",
              "3            True  ...                   CGK                 MGL   \n",
              "4            True  ...                   CGK                 MGL   \n",
              "...           ...  ...                   ...                 ...   \n",
              "8329          NaN  ...                   CGK                 CGK   \n",
              "8330          NaN  ...                   TGR                 JOG   \n",
              "8331          NaN  ...                   CGK                 TKG   \n",
              "8332        False  ...                   CGK                 KOE   \n",
              "8333          NaN  ...                   BPN                 CGK   \n",
              "\n",
              "     UserVar_weight UserVar_receiver_city taskDuration createdDow  \\\n",
              "0            13.000    BATANG ,KAB BATANG    29.066667          1   \n",
              "1             1.300   PURWODADI,PURWOREJO   232.683333          1   \n",
              "2             3.000   PURWODADI,PURWOREJO   300.833333          1   \n",
              "3             0.625   PURWODADI,PURWOREJO   577.200000          1   \n",
              "4             3.000     BAGELEN,PURWOREJO   130.700000          1   \n",
              "...             ...                   ...          ...        ...   \n",
              "8329          1.000  PALMERAH ,JAKARTA BA    30.866667          3   \n",
              "8330          1.000           KOTA BANTUL    16.166667          3   \n",
              "8331          1.440  MARGA SEKAMPUNG KAB.     1.183333          3   \n",
              "8332          0.600    KOMODO,LABUAN BAJO   132.216667          3   \n",
              "8333          1.000         JAKARTA PUSAT   111.616667          3   \n",
              "\n",
              "      completedDow createdHour  completedHour  createdDate  \n",
              "0                1          20             20   2022-11-01  \n",
              "1                1           8             12   2022-11-01  \n",
              "2                1           8             13   2022-11-01  \n",
              "3                1           8             18   2022-11-01  \n",
              "4                1           8             10   2022-11-01  \n",
              "...            ...         ...            ...          ...  \n",
              "8329             3           9              9   2022-11-10  \n",
              "8330             3           9              9   2022-11-10  \n",
              "8331             3           9              9   2022-11-10  \n",
              "8332             3           7              9   2022-11-10  \n",
              "8333             3           7              9   2022-11-10  \n",
              "\n",
              "[8334 rows x 24 columns]"
            ],
            "text/html": [
              "\n",
              "  <div id=\"df-fe523559-4642-4793-92b0-ff49257fdbf1\">\n",
              "    <div class=\"colab-df-container\">\n",
              "      <div>\n",
              "<style scoped>\n",
              "    .dataframe tbody tr th:only-of-type {\n",
              "        vertical-align: middle;\n",
              "    }\n",
              "\n",
              "    .dataframe tbody tr th {\n",
              "        vertical-align: top;\n",
              "    }\n",
              "\n",
              "    .dataframe thead th {\n",
              "        text-align: right;\n",
              "    }\n",
              "</style>\n",
              "<table border=\"1\" class=\"dataframe\">\n",
              "  <thead>\n",
              "    <tr style=\"text-align: right;\">\n",
              "      <th></th>\n",
              "      <th>taskId</th>\n",
              "      <th>taskCreatedTime</th>\n",
              "      <th>taskCompletedTime</th>\n",
              "      <th>taskStatus</th>\n",
              "      <th>taskAssignedTo</th>\n",
              "      <th>taskLocationDone_lon</th>\n",
              "      <th>taskLocationDone_lat</th>\n",
              "      <th>flow</th>\n",
              "      <th>cod_amount</th>\n",
              "      <th>cod_received</th>\n",
              "      <th>...</th>\n",
              "      <th>UserVar_branch_origin</th>\n",
              "      <th>UserVar_branch_dest</th>\n",
              "      <th>UserVar_weight</th>\n",
              "      <th>UserVar_receiver_city</th>\n",
              "      <th>taskDuration</th>\n",
              "      <th>createdDow</th>\n",
              "      <th>completedDow</th>\n",
              "      <th>createdHour</th>\n",
              "      <th>completedHour</th>\n",
              "      <th>createdDate</th>\n",
              "    </tr>\n",
              "  </thead>\n",
              "  <tbody>\n",
              "    <tr>\n",
              "      <th>0</th>\n",
              "      <td>4fe3b237c832ca4841a2</td>\n",
              "      <td>2022-11-01 20:17:26+07:00</td>\n",
              "      <td>2022-11-01 20:46:30+07:00</td>\n",
              "      <td>done</td>\n",
              "      <td>pacifiedLion0</td>\n",
              "      <td>109.762910</td>\n",
              "      <td>-6.926608</td>\n",
              "      <td>Delivery</td>\n",
              "      <td>685000.0</td>\n",
              "      <td>True</td>\n",
              "      <td>...</td>\n",
              "      <td>CGK</td>\n",
              "      <td>SRG</td>\n",
              "      <td>13.000</td>\n",
              "      <td>BATANG ,KAB BATANG</td>\n",
              "      <td>29.066667</td>\n",
              "      <td>1</td>\n",
              "      <td>1</td>\n",
              "      <td>20</td>\n",
              "      <td>20</td>\n",
              "      <td>2022-11-01</td>\n",
              "    </tr>\n",
              "    <tr>\n",
              "      <th>1</th>\n",
              "      <td>08a4da25256affae8446</td>\n",
              "      <td>2022-11-01 08:41:07+07:00</td>\n",
              "      <td>2022-11-01 12:33:48+07:00</td>\n",
              "      <td>done</td>\n",
              "      <td>peacefulTacos6</td>\n",
              "      <td>110.033986</td>\n",
              "      <td>-7.876154</td>\n",
              "      <td>Delivery</td>\n",
              "      <td>53500.0</td>\n",
              "      <td>True</td>\n",
              "      <td>...</td>\n",
              "      <td>CGK</td>\n",
              "      <td>MGL</td>\n",
              "      <td>1.300</td>\n",
              "      <td>PURWODADI,PURWOREJO</td>\n",
              "      <td>232.683333</td>\n",
              "      <td>1</td>\n",
              "      <td>1</td>\n",
              "      <td>8</td>\n",
              "      <td>12</td>\n",
              "      <td>2022-11-01</td>\n",
              "    </tr>\n",
              "    <tr>\n",
              "      <th>2</th>\n",
              "      <td>2ff0dc469826158b7684</td>\n",
              "      <td>2022-11-01 08:41:07+07:00</td>\n",
              "      <td>2022-11-01 13:41:57+07:00</td>\n",
              "      <td>done</td>\n",
              "      <td>peacefulTacos6</td>\n",
              "      <td>109.999733</td>\n",
              "      <td>-7.849777</td>\n",
              "      <td>Delivery</td>\n",
              "      <td>179500.0</td>\n",
              "      <td>True</td>\n",
              "      <td>...</td>\n",
              "      <td>CGK</td>\n",
              "      <td>MGL</td>\n",
              "      <td>3.000</td>\n",
              "      <td>PURWODADI,PURWOREJO</td>\n",
              "      <td>300.833333</td>\n",
              "      <td>1</td>\n",
              "      <td>1</td>\n",
              "      <td>8</td>\n",
              "      <td>13</td>\n",
              "      <td>2022-11-01</td>\n",
              "    </tr>\n",
              "    <tr>\n",
              "      <th>3</th>\n",
              "      <td>331c172c2b383f774328</td>\n",
              "      <td>2022-11-01 08:41:07+07:00</td>\n",
              "      <td>2022-11-01 18:18:19+07:00</td>\n",
              "      <td>done</td>\n",
              "      <td>peacefulTacos6</td>\n",
              "      <td>110.003708</td>\n",
              "      <td>-7.710998</td>\n",
              "      <td>Delivery</td>\n",
              "      <td>31815.0</td>\n",
              "      <td>True</td>\n",
              "      <td>...</td>\n",
              "      <td>CGK</td>\n",
              "      <td>MGL</td>\n",
              "      <td>0.625</td>\n",
              "      <td>PURWODADI,PURWOREJO</td>\n",
              "      <td>577.200000</td>\n",
              "      <td>1</td>\n",
              "      <td>1</td>\n",
              "      <td>8</td>\n",
              "      <td>18</td>\n",
              "      <td>2022-11-01</td>\n",
              "    </tr>\n",
              "    <tr>\n",
              "      <th>4</th>\n",
              "      <td>a9d53fa96c80baee8b23</td>\n",
              "      <td>2022-11-01 08:41:07+07:00</td>\n",
              "      <td>2022-11-01 10:51:49+07:00</td>\n",
              "      <td>done</td>\n",
              "      <td>peacefulTacos6</td>\n",
              "      <td>110.013887</td>\n",
              "      <td>-7.829742</td>\n",
              "      <td>Delivery</td>\n",
              "      <td>144562.0</td>\n",
              "      <td>True</td>\n",
              "      <td>...</td>\n",
              "      <td>CGK</td>\n",
              "      <td>MGL</td>\n",
              "      <td>3.000</td>\n",
              "      <td>BAGELEN,PURWOREJO</td>\n",
              "      <td>130.700000</td>\n",
              "      <td>1</td>\n",
              "      <td>1</td>\n",
              "      <td>8</td>\n",
              "      <td>10</td>\n",
              "      <td>2022-11-01</td>\n",
              "    </tr>\n",
              "    <tr>\n",
              "      <th>...</th>\n",
              "      <td>...</td>\n",
              "      <td>...</td>\n",
              "      <td>...</td>\n",
              "      <td>...</td>\n",
              "      <td>...</td>\n",
              "      <td>...</td>\n",
              "      <td>...</td>\n",
              "      <td>...</td>\n",
              "      <td>...</td>\n",
              "      <td>...</td>\n",
              "      <td>...</td>\n",
              "      <td>...</td>\n",
              "      <td>...</td>\n",
              "      <td>...</td>\n",
              "      <td>...</td>\n",
              "      <td>...</td>\n",
              "      <td>...</td>\n",
              "      <td>...</td>\n",
              "      <td>...</td>\n",
              "      <td>...</td>\n",
              "      <td>...</td>\n",
              "    </tr>\n",
              "    <tr>\n",
              "      <th>8329</th>\n",
              "      <td>501af4e040a742e9e878</td>\n",
              "      <td>2022-11-10 09:07:12+07:00</td>\n",
              "      <td>2022-11-10 09:38:04+07:00</td>\n",
              "      <td>done</td>\n",
              "      <td>debonairPonie1</td>\n",
              "      <td>0.000000</td>\n",
              "      <td>0.000000</td>\n",
              "      <td>Delivery</td>\n",
              "      <td>NaN</td>\n",
              "      <td>NaN</td>\n",
              "      <td>...</td>\n",
              "      <td>CGK</td>\n",
              "      <td>CGK</td>\n",
              "      <td>1.000</td>\n",
              "      <td>PALMERAH ,JAKARTA BA</td>\n",
              "      <td>30.866667</td>\n",
              "      <td>3</td>\n",
              "      <td>3</td>\n",
              "      <td>9</td>\n",
              "      <td>9</td>\n",
              "      <td>2022-11-10</td>\n",
              "    </tr>\n",
              "    <tr>\n",
              "      <th>8330</th>\n",
              "      <td>5cc952d9e9f8066dbf24</td>\n",
              "      <td>2022-11-10 09:21:42+07:00</td>\n",
              "      <td>2022-11-10 09:37:52+07:00</td>\n",
              "      <td>done</td>\n",
              "      <td>murkyThrushe3</td>\n",
              "      <td>110.352054</td>\n",
              "      <td>-7.892571</td>\n",
              "      <td>Delivery</td>\n",
              "      <td>NaN</td>\n",
              "      <td>NaN</td>\n",
              "      <td>...</td>\n",
              "      <td>TGR</td>\n",
              "      <td>JOG</td>\n",
              "      <td>1.000</td>\n",
              "      <td>KOTA BANTUL</td>\n",
              "      <td>16.166667</td>\n",
              "      <td>3</td>\n",
              "      <td>3</td>\n",
              "      <td>9</td>\n",
              "      <td>9</td>\n",
              "      <td>2022-11-10</td>\n",
              "    </tr>\n",
              "    <tr>\n",
              "      <th>8331</th>\n",
              "      <td>1b136b5a3c60749eb571</td>\n",
              "      <td>2022-11-10 09:36:44+07:00</td>\n",
              "      <td>2022-11-10 09:37:55+07:00</td>\n",
              "      <td>done</td>\n",
              "      <td>enragedCake7</td>\n",
              "      <td>105.664897</td>\n",
              "      <td>-5.359063</td>\n",
              "      <td>Delivery</td>\n",
              "      <td>NaN</td>\n",
              "      <td>NaN</td>\n",
              "      <td>...</td>\n",
              "      <td>CGK</td>\n",
              "      <td>TKG</td>\n",
              "      <td>1.440</td>\n",
              "      <td>MARGA SEKAMPUNG KAB.</td>\n",
              "      <td>1.183333</td>\n",
              "      <td>3</td>\n",
              "      <td>3</td>\n",
              "      <td>9</td>\n",
              "      <td>9</td>\n",
              "      <td>2022-11-10</td>\n",
              "    </tr>\n",
              "    <tr>\n",
              "      <th>8332</th>\n",
              "      <td>e92e813c8539080c922e</td>\n",
              "      <td>2022-11-10 07:25:40+07:00</td>\n",
              "      <td>2022-11-10 09:37:53+07:00</td>\n",
              "      <td>done</td>\n",
              "      <td>lyingPaella2</td>\n",
              "      <td>119.877173</td>\n",
              "      <td>-8.513305</td>\n",
              "      <td>Delivery</td>\n",
              "      <td>151000.0</td>\n",
              "      <td>False</td>\n",
              "      <td>...</td>\n",
              "      <td>CGK</td>\n",
              "      <td>KOE</td>\n",
              "      <td>0.600</td>\n",
              "      <td>KOMODO,LABUAN BAJO</td>\n",
              "      <td>132.216667</td>\n",
              "      <td>3</td>\n",
              "      <td>3</td>\n",
              "      <td>7</td>\n",
              "      <td>9</td>\n",
              "      <td>2022-11-10</td>\n",
              "    </tr>\n",
              "    <tr>\n",
              "      <th>8333</th>\n",
              "      <td>cdb90c597655282306fd</td>\n",
              "      <td>2022-11-10 07:46:13+07:00</td>\n",
              "      <td>2022-11-10 09:37:50+07:00</td>\n",
              "      <td>done</td>\n",
              "      <td>emptyPretzels3</td>\n",
              "      <td>0.000000</td>\n",
              "      <td>0.000000</td>\n",
              "      <td>Delivery</td>\n",
              "      <td>NaN</td>\n",
              "      <td>NaN</td>\n",
              "      <td>...</td>\n",
              "      <td>BPN</td>\n",
              "      <td>CGK</td>\n",
              "      <td>1.000</td>\n",
              "      <td>JAKARTA PUSAT</td>\n",
              "      <td>111.616667</td>\n",
              "      <td>3</td>\n",
              "      <td>3</td>\n",
              "      <td>7</td>\n",
              "      <td>9</td>\n",
              "      <td>2022-11-10</td>\n",
              "    </tr>\n",
              "  </tbody>\n",
              "</table>\n",
              "<p>8334 rows × 24 columns</p>\n",
              "</div>\n",
              "      <button class=\"colab-df-convert\" onclick=\"convertToInteractive('df-fe523559-4642-4793-92b0-ff49257fdbf1')\"\n",
              "              title=\"Convert this dataframe to an interactive table.\"\n",
              "              style=\"display:none;\">\n",
              "        \n",
              "  <svg xmlns=\"http://www.w3.org/2000/svg\" height=\"24px\"viewBox=\"0 0 24 24\"\n",
              "       width=\"24px\">\n",
              "    <path d=\"M0 0h24v24H0V0z\" fill=\"none\"/>\n",
              "    <path d=\"M18.56 5.44l.94 2.06.94-2.06 2.06-.94-2.06-.94-.94-2.06-.94 2.06-2.06.94zm-11 1L8.5 8.5l.94-2.06 2.06-.94-2.06-.94L8.5 2.5l-.94 2.06-2.06.94zm10 10l.94 2.06.94-2.06 2.06-.94-2.06-.94-.94-2.06-.94 2.06-2.06.94z\"/><path d=\"M17.41 7.96l-1.37-1.37c-.4-.4-.92-.59-1.43-.59-.52 0-1.04.2-1.43.59L10.3 9.45l-7.72 7.72c-.78.78-.78 2.05 0 2.83L4 21.41c.39.39.9.59 1.41.59.51 0 1.02-.2 1.41-.59l7.78-7.78 2.81-2.81c.8-.78.8-2.07 0-2.86zM5.41 20L4 18.59l7.72-7.72 1.47 1.35L5.41 20z\"/>\n",
              "  </svg>\n",
              "      </button>\n",
              "      \n",
              "  <style>\n",
              "    .colab-df-container {\n",
              "      display:flex;\n",
              "      flex-wrap:wrap;\n",
              "      gap: 12px;\n",
              "    }\n",
              "\n",
              "    .colab-df-convert {\n",
              "      background-color: #E8F0FE;\n",
              "      border: none;\n",
              "      border-radius: 50%;\n",
              "      cursor: pointer;\n",
              "      display: none;\n",
              "      fill: #1967D2;\n",
              "      height: 32px;\n",
              "      padding: 0 0 0 0;\n",
              "      width: 32px;\n",
              "    }\n",
              "\n",
              "    .colab-df-convert:hover {\n",
              "      background-color: #E2EBFA;\n",
              "      box-shadow: 0px 1px 2px rgba(60, 64, 67, 0.3), 0px 1px 3px 1px rgba(60, 64, 67, 0.15);\n",
              "      fill: #174EA6;\n",
              "    }\n",
              "\n",
              "    [theme=dark] .colab-df-convert {\n",
              "      background-color: #3B4455;\n",
              "      fill: #D2E3FC;\n",
              "    }\n",
              "\n",
              "    [theme=dark] .colab-df-convert:hover {\n",
              "      background-color: #434B5C;\n",
              "      box-shadow: 0px 1px 3px 1px rgba(0, 0, 0, 0.15);\n",
              "      filter: drop-shadow(0px 1px 2px rgba(0, 0, 0, 0.3));\n",
              "      fill: #FFFFFF;\n",
              "    }\n",
              "  </style>\n",
              "\n",
              "      <script>\n",
              "        const buttonEl =\n",
              "          document.querySelector('#df-fe523559-4642-4793-92b0-ff49257fdbf1 button.colab-df-convert');\n",
              "        buttonEl.style.display =\n",
              "          google.colab.kernel.accessAllowed ? 'block' : 'none';\n",
              "\n",
              "        async function convertToInteractive(key) {\n",
              "          const element = document.querySelector('#df-fe523559-4642-4793-92b0-ff49257fdbf1');\n",
              "          const dataTable =\n",
              "            await google.colab.kernel.invokeFunction('convertToInteractive',\n",
              "                                                     [key], {});\n",
              "          if (!dataTable) return;\n",
              "\n",
              "          const docLinkHtml = 'Like what you see? Visit the ' +\n",
              "            '<a target=\"_blank\" href=https://colab.research.google.com/notebooks/data_table.ipynb>data table notebook</a>'\n",
              "            + ' to learn more about interactive tables.';\n",
              "          element.innerHTML = '';\n",
              "          dataTable['output_type'] = 'display_data';\n",
              "          await google.colab.output.renderOutput(dataTable, element);\n",
              "          const docLink = document.createElement('div');\n",
              "          docLink.innerHTML = docLinkHtml;\n",
              "          element.appendChild(docLink);\n",
              "        }\n",
              "      </script>\n",
              "    </div>\n",
              "  </div>\n",
              "  "
            ]
          },
          "metadata": {},
          "execution_count": 114
        }
      ]
    },
    {
      "cell_type": "markdown",
      "source": [
        "# Insight"
      ],
      "metadata": {
        "id": "yAQ-W2mVwjur"
      }
    },
    {
      "cell_type": "code",
      "source": [
        "df.describe()"
      ],
      "metadata": {
        "colab": {
          "base_uri": "https://localhost:8080/",
          "height": 364
        },
        "id": "E52DsdCctFzf",
        "outputId": "1055ddae-90c1-49c3-8788-c4590fcf1c43"
      },
      "execution_count": 115,
      "outputs": [
        {
          "output_type": "execute_result",
          "data": {
            "text/plain": [
              "       taskLocationDone_lon  taskLocationDone_lat    cod_amount  \\\n",
              "count           7566.000000           7566.000000  2.358000e+03   \n",
              "mean              75.355852             -3.610514  1.911411e+05   \n",
              "std               52.492016              3.647171  2.723770e+05   \n",
              "min                0.000000            -10.493658  8.370000e+02   \n",
              "25%                0.000000             -7.061575  6.100000e+04   \n",
              "50%              106.843097             -3.329263  1.533750e+05   \n",
              "75%              112.182877              0.000000  2.350000e+05   \n",
              "max              140.806424              5.564040  4.730000e+06   \n",
              "\n",
              "       UserVar_weight  taskDuration   createdDow  completedDow  createdHour  \\\n",
              "count     8334.000000   8334.000000  8334.000000   8334.000000  8334.000000   \n",
              "mean         2.448298     66.126934     2.646148      2.646148     7.883729   \n",
              "std          6.188171     98.400715     1.688281      1.688281     1.452241   \n",
              "min          0.000000      0.000000     0.000000      0.000000     7.000000   \n",
              "25%          1.000000      3.937500     1.000000      1.000000     7.000000   \n",
              "50%          1.000000     31.716667     3.000000      3.000000     7.000000   \n",
              "75%          1.600000     75.441667     4.000000      4.000000     8.000000   \n",
              "max        202.500000    796.000000     6.000000      6.000000    20.000000   \n",
              "\n",
              "       completedHour  \n",
              "count    8334.000000  \n",
              "mean        8.948164  \n",
              "std         2.422385  \n",
              "min         7.000000  \n",
              "25%         7.000000  \n",
              "50%         8.000000  \n",
              "75%         9.000000  \n",
              "max        22.000000  "
            ],
            "text/html": [
              "\n",
              "  <div id=\"df-63f09be1-f1af-47ee-a80c-c0676cfe1774\">\n",
              "    <div class=\"colab-df-container\">\n",
              "      <div>\n",
              "<style scoped>\n",
              "    .dataframe tbody tr th:only-of-type {\n",
              "        vertical-align: middle;\n",
              "    }\n",
              "\n",
              "    .dataframe tbody tr th {\n",
              "        vertical-align: top;\n",
              "    }\n",
              "\n",
              "    .dataframe thead th {\n",
              "        text-align: right;\n",
              "    }\n",
              "</style>\n",
              "<table border=\"1\" class=\"dataframe\">\n",
              "  <thead>\n",
              "    <tr style=\"text-align: right;\">\n",
              "      <th></th>\n",
              "      <th>taskLocationDone_lon</th>\n",
              "      <th>taskLocationDone_lat</th>\n",
              "      <th>cod_amount</th>\n",
              "      <th>UserVar_weight</th>\n",
              "      <th>taskDuration</th>\n",
              "      <th>createdDow</th>\n",
              "      <th>completedDow</th>\n",
              "      <th>createdHour</th>\n",
              "      <th>completedHour</th>\n",
              "    </tr>\n",
              "  </thead>\n",
              "  <tbody>\n",
              "    <tr>\n",
              "      <th>count</th>\n",
              "      <td>7566.000000</td>\n",
              "      <td>7566.000000</td>\n",
              "      <td>2.358000e+03</td>\n",
              "      <td>8334.000000</td>\n",
              "      <td>8334.000000</td>\n",
              "      <td>8334.000000</td>\n",
              "      <td>8334.000000</td>\n",
              "      <td>8334.000000</td>\n",
              "      <td>8334.000000</td>\n",
              "    </tr>\n",
              "    <tr>\n",
              "      <th>mean</th>\n",
              "      <td>75.355852</td>\n",
              "      <td>-3.610514</td>\n",
              "      <td>1.911411e+05</td>\n",
              "      <td>2.448298</td>\n",
              "      <td>66.126934</td>\n",
              "      <td>2.646148</td>\n",
              "      <td>2.646148</td>\n",
              "      <td>7.883729</td>\n",
              "      <td>8.948164</td>\n",
              "    </tr>\n",
              "    <tr>\n",
              "      <th>std</th>\n",
              "      <td>52.492016</td>\n",
              "      <td>3.647171</td>\n",
              "      <td>2.723770e+05</td>\n",
              "      <td>6.188171</td>\n",
              "      <td>98.400715</td>\n",
              "      <td>1.688281</td>\n",
              "      <td>1.688281</td>\n",
              "      <td>1.452241</td>\n",
              "      <td>2.422385</td>\n",
              "    </tr>\n",
              "    <tr>\n",
              "      <th>min</th>\n",
              "      <td>0.000000</td>\n",
              "      <td>-10.493658</td>\n",
              "      <td>8.370000e+02</td>\n",
              "      <td>0.000000</td>\n",
              "      <td>0.000000</td>\n",
              "      <td>0.000000</td>\n",
              "      <td>0.000000</td>\n",
              "      <td>7.000000</td>\n",
              "      <td>7.000000</td>\n",
              "    </tr>\n",
              "    <tr>\n",
              "      <th>25%</th>\n",
              "      <td>0.000000</td>\n",
              "      <td>-7.061575</td>\n",
              "      <td>6.100000e+04</td>\n",
              "      <td>1.000000</td>\n",
              "      <td>3.937500</td>\n",
              "      <td>1.000000</td>\n",
              "      <td>1.000000</td>\n",
              "      <td>7.000000</td>\n",
              "      <td>7.000000</td>\n",
              "    </tr>\n",
              "    <tr>\n",
              "      <th>50%</th>\n",
              "      <td>106.843097</td>\n",
              "      <td>-3.329263</td>\n",
              "      <td>1.533750e+05</td>\n",
              "      <td>1.000000</td>\n",
              "      <td>31.716667</td>\n",
              "      <td>3.000000</td>\n",
              "      <td>3.000000</td>\n",
              "      <td>7.000000</td>\n",
              "      <td>8.000000</td>\n",
              "    </tr>\n",
              "    <tr>\n",
              "      <th>75%</th>\n",
              "      <td>112.182877</td>\n",
              "      <td>0.000000</td>\n",
              "      <td>2.350000e+05</td>\n",
              "      <td>1.600000</td>\n",
              "      <td>75.441667</td>\n",
              "      <td>4.000000</td>\n",
              "      <td>4.000000</td>\n",
              "      <td>8.000000</td>\n",
              "      <td>9.000000</td>\n",
              "    </tr>\n",
              "    <tr>\n",
              "      <th>max</th>\n",
              "      <td>140.806424</td>\n",
              "      <td>5.564040</td>\n",
              "      <td>4.730000e+06</td>\n",
              "      <td>202.500000</td>\n",
              "      <td>796.000000</td>\n",
              "      <td>6.000000</td>\n",
              "      <td>6.000000</td>\n",
              "      <td>20.000000</td>\n",
              "      <td>22.000000</td>\n",
              "    </tr>\n",
              "  </tbody>\n",
              "</table>\n",
              "</div>\n",
              "      <button class=\"colab-df-convert\" onclick=\"convertToInteractive('df-63f09be1-f1af-47ee-a80c-c0676cfe1774')\"\n",
              "              title=\"Convert this dataframe to an interactive table.\"\n",
              "              style=\"display:none;\">\n",
              "        \n",
              "  <svg xmlns=\"http://www.w3.org/2000/svg\" height=\"24px\"viewBox=\"0 0 24 24\"\n",
              "       width=\"24px\">\n",
              "    <path d=\"M0 0h24v24H0V0z\" fill=\"none\"/>\n",
              "    <path d=\"M18.56 5.44l.94 2.06.94-2.06 2.06-.94-2.06-.94-.94-2.06-.94 2.06-2.06.94zm-11 1L8.5 8.5l.94-2.06 2.06-.94-2.06-.94L8.5 2.5l-.94 2.06-2.06.94zm10 10l.94 2.06.94-2.06 2.06-.94-2.06-.94-.94-2.06-.94 2.06-2.06.94z\"/><path d=\"M17.41 7.96l-1.37-1.37c-.4-.4-.92-.59-1.43-.59-.52 0-1.04.2-1.43.59L10.3 9.45l-7.72 7.72c-.78.78-.78 2.05 0 2.83L4 21.41c.39.39.9.59 1.41.59.51 0 1.02-.2 1.41-.59l7.78-7.78 2.81-2.81c.8-.78.8-2.07 0-2.86zM5.41 20L4 18.59l7.72-7.72 1.47 1.35L5.41 20z\"/>\n",
              "  </svg>\n",
              "      </button>\n",
              "      \n",
              "  <style>\n",
              "    .colab-df-container {\n",
              "      display:flex;\n",
              "      flex-wrap:wrap;\n",
              "      gap: 12px;\n",
              "    }\n",
              "\n",
              "    .colab-df-convert {\n",
              "      background-color: #E8F0FE;\n",
              "      border: none;\n",
              "      border-radius: 50%;\n",
              "      cursor: pointer;\n",
              "      display: none;\n",
              "      fill: #1967D2;\n",
              "      height: 32px;\n",
              "      padding: 0 0 0 0;\n",
              "      width: 32px;\n",
              "    }\n",
              "\n",
              "    .colab-df-convert:hover {\n",
              "      background-color: #E2EBFA;\n",
              "      box-shadow: 0px 1px 2px rgba(60, 64, 67, 0.3), 0px 1px 3px 1px rgba(60, 64, 67, 0.15);\n",
              "      fill: #174EA6;\n",
              "    }\n",
              "\n",
              "    [theme=dark] .colab-df-convert {\n",
              "      background-color: #3B4455;\n",
              "      fill: #D2E3FC;\n",
              "    }\n",
              "\n",
              "    [theme=dark] .colab-df-convert:hover {\n",
              "      background-color: #434B5C;\n",
              "      box-shadow: 0px 1px 3px 1px rgba(0, 0, 0, 0.15);\n",
              "      filter: drop-shadow(0px 1px 2px rgba(0, 0, 0, 0.3));\n",
              "      fill: #FFFFFF;\n",
              "    }\n",
              "  </style>\n",
              "\n",
              "      <script>\n",
              "        const buttonEl =\n",
              "          document.querySelector('#df-63f09be1-f1af-47ee-a80c-c0676cfe1774 button.colab-df-convert');\n",
              "        buttonEl.style.display =\n",
              "          google.colab.kernel.accessAllowed ? 'block' : 'none';\n",
              "\n",
              "        async function convertToInteractive(key) {\n",
              "          const element = document.querySelector('#df-63f09be1-f1af-47ee-a80c-c0676cfe1774');\n",
              "          const dataTable =\n",
              "            await google.colab.kernel.invokeFunction('convertToInteractive',\n",
              "                                                     [key], {});\n",
              "          if (!dataTable) return;\n",
              "\n",
              "          const docLinkHtml = 'Like what you see? Visit the ' +\n",
              "            '<a target=\"_blank\" href=https://colab.research.google.com/notebooks/data_table.ipynb>data table notebook</a>'\n",
              "            + ' to learn more about interactive tables.';\n",
              "          element.innerHTML = '';\n",
              "          dataTable['output_type'] = 'display_data';\n",
              "          await google.colab.output.renderOutput(dataTable, element);\n",
              "          const docLink = document.createElement('div');\n",
              "          docLink.innerHTML = docLinkHtml;\n",
              "          element.appendChild(docLink);\n",
              "        }\n",
              "      </script>\n",
              "    </div>\n",
              "  </div>\n",
              "  "
            ]
          },
          "metadata": {},
          "execution_count": 115
        }
      ]
    },
    {
      "cell_type": "code",
      "source": [
        "# statistic for task = 'Done'\n",
        "df[df['taskDuration']>0].describe()"
      ],
      "metadata": {
        "colab": {
          "base_uri": "https://localhost:8080/",
          "height": 364
        },
        "id": "QN8272ZqIVLd",
        "outputId": "1194ab63-99ea-400c-9ea3-ec9532fab0ef"
      },
      "execution_count": 116,
      "outputs": [
        {
          "output_type": "execute_result",
          "data": {
            "text/plain": [
              "       taskLocationDone_lon  taskLocationDone_lat    cod_amount  \\\n",
              "count           7566.000000           7566.000000  1.974000e+03   \n",
              "mean              75.355852             -3.610514  1.776484e+05   \n",
              "std               52.492016              3.647171  2.746114e+05   \n",
              "min                0.000000            -10.493658  8.370000e+02   \n",
              "25%                0.000000             -7.061575  5.237000e+04   \n",
              "50%              106.843097             -3.329263  1.350000e+05   \n",
              "75%              112.182877              0.000000  2.167975e+05   \n",
              "max              140.806424              5.564040  4.730000e+06   \n",
              "\n",
              "       UserVar_weight  taskDuration   createdDow  completedDow  createdHour  \\\n",
              "count     7566.000000   7566.000000  7566.000000   7566.000000  7566.000000   \n",
              "mean         2.443052     72.839263     2.739492      2.739492     7.904837   \n",
              "std          6.310260    100.879652     1.641076      1.641076     1.473336   \n",
              "min          0.000000      0.250000     0.000000      0.000000     7.000000   \n",
              "25%          1.000000      9.995833     2.000000      2.000000     7.000000   \n",
              "50%          1.000000     37.258333     3.000000      3.000000     7.000000   \n",
              "75%          1.687500     82.120833     4.000000      4.000000     8.000000   \n",
              "max        202.500000    796.000000     6.000000      6.000000    20.000000   \n",
              "\n",
              "       completedHour  \n",
              "count    7566.000000  \n",
              "mean        9.077320  \n",
              "std         2.476906  \n",
              "min         7.000000  \n",
              "25%         7.000000  \n",
              "50%         8.000000  \n",
              "75%         9.000000  \n",
              "max        22.000000  "
            ],
            "text/html": [
              "\n",
              "  <div id=\"df-2ff71700-5adf-41da-9aec-d7cbc29ed725\">\n",
              "    <div class=\"colab-df-container\">\n",
              "      <div>\n",
              "<style scoped>\n",
              "    .dataframe tbody tr th:only-of-type {\n",
              "        vertical-align: middle;\n",
              "    }\n",
              "\n",
              "    .dataframe tbody tr th {\n",
              "        vertical-align: top;\n",
              "    }\n",
              "\n",
              "    .dataframe thead th {\n",
              "        text-align: right;\n",
              "    }\n",
              "</style>\n",
              "<table border=\"1\" class=\"dataframe\">\n",
              "  <thead>\n",
              "    <tr style=\"text-align: right;\">\n",
              "      <th></th>\n",
              "      <th>taskLocationDone_lon</th>\n",
              "      <th>taskLocationDone_lat</th>\n",
              "      <th>cod_amount</th>\n",
              "      <th>UserVar_weight</th>\n",
              "      <th>taskDuration</th>\n",
              "      <th>createdDow</th>\n",
              "      <th>completedDow</th>\n",
              "      <th>createdHour</th>\n",
              "      <th>completedHour</th>\n",
              "    </tr>\n",
              "  </thead>\n",
              "  <tbody>\n",
              "    <tr>\n",
              "      <th>count</th>\n",
              "      <td>7566.000000</td>\n",
              "      <td>7566.000000</td>\n",
              "      <td>1.974000e+03</td>\n",
              "      <td>7566.000000</td>\n",
              "      <td>7566.000000</td>\n",
              "      <td>7566.000000</td>\n",
              "      <td>7566.000000</td>\n",
              "      <td>7566.000000</td>\n",
              "      <td>7566.000000</td>\n",
              "    </tr>\n",
              "    <tr>\n",
              "      <th>mean</th>\n",
              "      <td>75.355852</td>\n",
              "      <td>-3.610514</td>\n",
              "      <td>1.776484e+05</td>\n",
              "      <td>2.443052</td>\n",
              "      <td>72.839263</td>\n",
              "      <td>2.739492</td>\n",
              "      <td>2.739492</td>\n",
              "      <td>7.904837</td>\n",
              "      <td>9.077320</td>\n",
              "    </tr>\n",
              "    <tr>\n",
              "      <th>std</th>\n",
              "      <td>52.492016</td>\n",
              "      <td>3.647171</td>\n",
              "      <td>2.746114e+05</td>\n",
              "      <td>6.310260</td>\n",
              "      <td>100.879652</td>\n",
              "      <td>1.641076</td>\n",
              "      <td>1.641076</td>\n",
              "      <td>1.473336</td>\n",
              "      <td>2.476906</td>\n",
              "    </tr>\n",
              "    <tr>\n",
              "      <th>min</th>\n",
              "      <td>0.000000</td>\n",
              "      <td>-10.493658</td>\n",
              "      <td>8.370000e+02</td>\n",
              "      <td>0.000000</td>\n",
              "      <td>0.250000</td>\n",
              "      <td>0.000000</td>\n",
              "      <td>0.000000</td>\n",
              "      <td>7.000000</td>\n",
              "      <td>7.000000</td>\n",
              "    </tr>\n",
              "    <tr>\n",
              "      <th>25%</th>\n",
              "      <td>0.000000</td>\n",
              "      <td>-7.061575</td>\n",
              "      <td>5.237000e+04</td>\n",
              "      <td>1.000000</td>\n",
              "      <td>9.995833</td>\n",
              "      <td>2.000000</td>\n",
              "      <td>2.000000</td>\n",
              "      <td>7.000000</td>\n",
              "      <td>7.000000</td>\n",
              "    </tr>\n",
              "    <tr>\n",
              "      <th>50%</th>\n",
              "      <td>106.843097</td>\n",
              "      <td>-3.329263</td>\n",
              "      <td>1.350000e+05</td>\n",
              "      <td>1.000000</td>\n",
              "      <td>37.258333</td>\n",
              "      <td>3.000000</td>\n",
              "      <td>3.000000</td>\n",
              "      <td>7.000000</td>\n",
              "      <td>8.000000</td>\n",
              "    </tr>\n",
              "    <tr>\n",
              "      <th>75%</th>\n",
              "      <td>112.182877</td>\n",
              "      <td>0.000000</td>\n",
              "      <td>2.167975e+05</td>\n",
              "      <td>1.687500</td>\n",
              "      <td>82.120833</td>\n",
              "      <td>4.000000</td>\n",
              "      <td>4.000000</td>\n",
              "      <td>8.000000</td>\n",
              "      <td>9.000000</td>\n",
              "    </tr>\n",
              "    <tr>\n",
              "      <th>max</th>\n",
              "      <td>140.806424</td>\n",
              "      <td>5.564040</td>\n",
              "      <td>4.730000e+06</td>\n",
              "      <td>202.500000</td>\n",
              "      <td>796.000000</td>\n",
              "      <td>6.000000</td>\n",
              "      <td>6.000000</td>\n",
              "      <td>20.000000</td>\n",
              "      <td>22.000000</td>\n",
              "    </tr>\n",
              "  </tbody>\n",
              "</table>\n",
              "</div>\n",
              "      <button class=\"colab-df-convert\" onclick=\"convertToInteractive('df-2ff71700-5adf-41da-9aec-d7cbc29ed725')\"\n",
              "              title=\"Convert this dataframe to an interactive table.\"\n",
              "              style=\"display:none;\">\n",
              "        \n",
              "  <svg xmlns=\"http://www.w3.org/2000/svg\" height=\"24px\"viewBox=\"0 0 24 24\"\n",
              "       width=\"24px\">\n",
              "    <path d=\"M0 0h24v24H0V0z\" fill=\"none\"/>\n",
              "    <path d=\"M18.56 5.44l.94 2.06.94-2.06 2.06-.94-2.06-.94-.94-2.06-.94 2.06-2.06.94zm-11 1L8.5 8.5l.94-2.06 2.06-.94-2.06-.94L8.5 2.5l-.94 2.06-2.06.94zm10 10l.94 2.06.94-2.06 2.06-.94-2.06-.94-.94-2.06-.94 2.06-2.06.94z\"/><path d=\"M17.41 7.96l-1.37-1.37c-.4-.4-.92-.59-1.43-.59-.52 0-1.04.2-1.43.59L10.3 9.45l-7.72 7.72c-.78.78-.78 2.05 0 2.83L4 21.41c.39.39.9.59 1.41.59.51 0 1.02-.2 1.41-.59l7.78-7.78 2.81-2.81c.8-.78.8-2.07 0-2.86zM5.41 20L4 18.59l7.72-7.72 1.47 1.35L5.41 20z\"/>\n",
              "  </svg>\n",
              "      </button>\n",
              "      \n",
              "  <style>\n",
              "    .colab-df-container {\n",
              "      display:flex;\n",
              "      flex-wrap:wrap;\n",
              "      gap: 12px;\n",
              "    }\n",
              "\n",
              "    .colab-df-convert {\n",
              "      background-color: #E8F0FE;\n",
              "      border: none;\n",
              "      border-radius: 50%;\n",
              "      cursor: pointer;\n",
              "      display: none;\n",
              "      fill: #1967D2;\n",
              "      height: 32px;\n",
              "      padding: 0 0 0 0;\n",
              "      width: 32px;\n",
              "    }\n",
              "\n",
              "    .colab-df-convert:hover {\n",
              "      background-color: #E2EBFA;\n",
              "      box-shadow: 0px 1px 2px rgba(60, 64, 67, 0.3), 0px 1px 3px 1px rgba(60, 64, 67, 0.15);\n",
              "      fill: #174EA6;\n",
              "    }\n",
              "\n",
              "    [theme=dark] .colab-df-convert {\n",
              "      background-color: #3B4455;\n",
              "      fill: #D2E3FC;\n",
              "    }\n",
              "\n",
              "    [theme=dark] .colab-df-convert:hover {\n",
              "      background-color: #434B5C;\n",
              "      box-shadow: 0px 1px 3px 1px rgba(0, 0, 0, 0.15);\n",
              "      filter: drop-shadow(0px 1px 2px rgba(0, 0, 0, 0.3));\n",
              "      fill: #FFFFFF;\n",
              "    }\n",
              "  </style>\n",
              "\n",
              "      <script>\n",
              "        const buttonEl =\n",
              "          document.querySelector('#df-2ff71700-5adf-41da-9aec-d7cbc29ed725 button.colab-df-convert');\n",
              "        buttonEl.style.display =\n",
              "          google.colab.kernel.accessAllowed ? 'block' : 'none';\n",
              "\n",
              "        async function convertToInteractive(key) {\n",
              "          const element = document.querySelector('#df-2ff71700-5adf-41da-9aec-d7cbc29ed725');\n",
              "          const dataTable =\n",
              "            await google.colab.kernel.invokeFunction('convertToInteractive',\n",
              "                                                     [key], {});\n",
              "          if (!dataTable) return;\n",
              "\n",
              "          const docLinkHtml = 'Like what you see? Visit the ' +\n",
              "            '<a target=\"_blank\" href=https://colab.research.google.com/notebooks/data_table.ipynb>data table notebook</a>'\n",
              "            + ' to learn more about interactive tables.';\n",
              "          element.innerHTML = '';\n",
              "          dataTable['output_type'] = 'display_data';\n",
              "          await google.colab.output.renderOutput(dataTable, element);\n",
              "          const docLink = document.createElement('div');\n",
              "          docLink.innerHTML = docLinkHtml;\n",
              "          element.appendChild(docLink);\n",
              "        }\n",
              "      </script>\n",
              "    </div>\n",
              "  </div>\n",
              "  "
            ]
          },
          "metadata": {},
          "execution_count": 116
        }
      ]
    },
    {
      "cell_type": "code",
      "source": [
        "df.info()"
      ],
      "metadata": {
        "colab": {
          "base_uri": "https://localhost:8080/"
        },
        "id": "Azl42RcPOZrv",
        "outputId": "26dd4948-d419-4aba-a477-f05b9deada6d"
      },
      "execution_count": 122,
      "outputs": [
        {
          "output_type": "stream",
          "name": "stdout",
          "text": [
            "<class 'pandas.core.frame.DataFrame'>\n",
            "RangeIndex: 8334 entries, 0 to 8333\n",
            "Data columns (total 24 columns):\n",
            " #   Column                         Non-Null Count  Dtype                    \n",
            "---  ------                         --------------  -----                    \n",
            " 0   taskId                         8334 non-null   object                   \n",
            " 1   taskCreatedTime                8334 non-null   datetime64[ns, UTC+07:00]\n",
            " 2   taskCompletedTime              8334 non-null   datetime64[ns, UTC+07:00]\n",
            " 3   taskStatus                     8334 non-null   object                   \n",
            " 4   taskAssignedTo                 8333 non-null   object                   \n",
            " 5   taskLocationDone_lon           7566 non-null   float64                  \n",
            " 6   taskLocationDone_lat           7566 non-null   float64                  \n",
            " 7   flow                           8334 non-null   object                   \n",
            " 8   cod_amount                     2358 non-null   float64                  \n",
            " 9   cod_received                   2358 non-null   object                   \n",
            " 10  UserVar_taskStatus             7572 non-null   object                   \n",
            " 11  UserVar_taskStatusLabel        7572 non-null   object                   \n",
            " 12  UserVar_taskDetailStatus       7572 non-null   object                   \n",
            " 13  UserVar_taskDetailStatusLabel  7572 non-null   object                   \n",
            " 14  UserVar_branch_origin          8041 non-null   object                   \n",
            " 15  UserVar_branch_dest            8334 non-null   object                   \n",
            " 16  UserVar_weight                 8334 non-null   float64                  \n",
            " 17  UserVar_receiver_city          8282 non-null   object                   \n",
            " 18  taskDuration                   8334 non-null   float64                  \n",
            " 19  createdDow                     8334 non-null   int64                    \n",
            " 20  completedDow                   8334 non-null   int64                    \n",
            " 21  createdHour                    8334 non-null   int64                    \n",
            " 22  completedHour                  8334 non-null   int64                    \n",
            " 23  createdDate                    8334 non-null   object                   \n",
            "dtypes: datetime64[ns, UTC+07:00](2), float64(5), int64(4), object(13)\n",
            "memory usage: 1.5+ MB\n"
          ]
        }
      ]
    },
    {
      "cell_type": "markdown",
      "source": [
        "## Jumlah Task "
      ],
      "metadata": {
        "id": "YTWN1QnydViY"
      }
    },
    {
      "cell_type": "code",
      "source": [
        "# task distribution\n",
        "\n",
        "# Group by date and count the number of unique taskId values\n",
        "created_tasks = df.groupby('createdDate')['taskId'].nunique()\n",
        "\n",
        "plt.plot(created_tasks.index, created_tasks.values)\n",
        "plt.xlabel('Date')\n",
        "plt.ylabel('Number of Created Tasks')\n",
        "plt.title('Number of Created Tasks over 10 Days')\n",
        "\n",
        "plt.xticks(rotation=45)\n",
        "\n",
        "plt.show()\n"
      ],
      "metadata": {
        "colab": {
          "base_uri": "https://localhost:8080/",
          "height": 524
        },
        "id": "QegSlqNS_2X1",
        "outputId": "bdb8cef8-132a-49de-adc3-0539a01b21c0"
      },
      "execution_count": 119,
      "outputs": [
        {
          "output_type": "display_data",
          "data": {
            "text/plain": [
              "<Figure size 640x480 with 1 Axes>"
            ],
            "image/png": "[encoded data removed]"
          },
          "metadata": {}
        }
      ]
    },
    {
      "cell_type": "code",
      "source": [
        "created_tasks"
      ],
      "metadata": {
        "colab": {
          "base_uri": "https://localhost:8080/"
        },
        "id": "QX70E2xpBycL",
        "outputId": "86a46a88-3bb1-4320-d8ec-eb8acb539397"
      },
      "execution_count": 120,
      "outputs": [
        {
          "output_type": "execute_result",
          "data": {
            "text/plain": [
              "createdDate\n",
              "2022-11-01    677\n",
              "2022-11-02    889\n",
              "2022-11-03    923\n",
              "2022-11-04    901\n",
              "2022-11-05    853\n",
              "2022-11-06    571\n",
              "2022-11-07    875\n",
              "2022-11-08    735\n",
              "2022-11-09    931\n",
              "2022-11-10    979\n",
              "Name: taskId, dtype: int64"
            ]
          },
          "metadata": {},
          "execution_count": 120
        }
      ]
    },
    {
      "cell_type": "markdown",
      "source": [
        "## Task Status"
      ],
      "metadata": {
        "id": "PAUblBYqdnBI"
      }
    },
    {
      "cell_type": "code",
      "source": [
        "taskstatus_cnt = df['taskStatus'].value_counts()\n",
        "\n",
        "temp = df[df['taskStatus'] == 'done']['UserVar_taskStatusLabel'].value_counts()\n",
        "\n",
        "# Function to format the autopct labels\n",
        "def autopct_format(values):\n",
        "    def my_format(pct):\n",
        "        total = sum(values)\n",
        "        val = int(round(pct * total / 100.0))\n",
        "        return '{:.1f}%\\n({:d})'.format(pct, val)\n",
        "    return my_format\n",
        "\n",
        "fig, (ax1, ax2) = plt.subplots(1, 2, figsize=(10, 5))\n",
        "\n",
        "# Plot the first pie chart\n",
        "ax1.pie(taskstatus_cnt, labels=taskstatus_cnt.index, autopct=autopct_format(taskstatus_cnt))\n",
        "ax1.set_title('Task Status')\n",
        "\n",
        "# Plot the second pie chart\n",
        "ax2.pie(temp, labels=temp.index, autopct=autopct_format(temp))\n",
        "ax2.set_title('Task Status = Done')\n",
        "\n",
        "fig.tight_layout()\n",
        "\n",
        "plt.show()\n"
      ],
      "metadata": {
        "colab": {
          "base_uri": "https://localhost:8080/",
          "height": 518
        },
        "id": "--osFK-o3nSp",
        "outputId": "cddc5d0f-483b-429d-9f36-eac93ae24b81"
      },
      "execution_count": 129,
      "outputs": [
        {
          "output_type": "display_data",
          "data": {
            "text/plain": [
              "<Figure size 1000x500 with 2 Axes>"
            ],
            "image/png": "[encoded data removed]"
          },
          "metadata": {}
        }
      ]
    },
    {
      "cell_type": "code",
      "source": [
        "# Successful and Failed Tasks for each Day\n",
        "\n",
        "# Filter the data for done tasks\n",
        "done_tasks = df[df['taskStatus'] == 'done']\n",
        "\n",
        "# Group by date and UserVar_taskStatusLabel and count the number\n",
        "task_status_counts = done_tasks.groupby(['createdDate', 'UserVar_taskStatusLabel']).size().unstack(fill_value=0)\n",
        "\n",
        "task_status_counts.plot(kind='bar', stacked=True)\n",
        "plt.xlabel('Date')\n",
        "plt.ylabel('Number of Tasks')\n",
        "plt.title('Number of Successful and Failed Tasks for each Day')\n",
        "\n",
        "plt.xticks(rotation=45)\n",
        "\n",
        "plt.show()\n"
      ],
      "metadata": {
        "colab": {
          "base_uri": "https://localhost:8080/",
          "height": 524
        },
        "id": "0r-qctP3DoOs",
        "outputId": "0bce5bb6-3180-4552-cbf6-dff20420ca41"
      },
      "execution_count": 130,
      "outputs": [
        {
          "output_type": "display_data",
          "data": {
            "text/plain": [
              "<Figure size 640x480 with 1 Axes>"
            ],
            "image/png": "[encoded data removed]"
          },
          "metadata": {}
        }
      ]
    },
    {
      "cell_type": "code",
      "source": [
        "task_status_counts"
      ],
      "metadata": {
        "colab": {
          "base_uri": "https://localhost:8080/",
          "height": 394
        },
        "id": "Ax8H0XOQEwqn",
        "outputId": "fea008cd-269d-4223-a6df-b5cc46027706"
      },
      "execution_count": 131,
      "outputs": [
        {
          "output_type": "execute_result",
          "data": {
            "text/plain": [
              "UserVar_taskStatusLabel  Failed  Success\n",
              "createdDate                             \n",
              "2022-11-01                    0      677\n",
              "2022-11-02                  356      446\n",
              "2022-11-03                  313      570\n",
              "2022-11-04                   71      811\n",
              "2022-11-05                  389      383\n",
              "2022-11-06                  224      308\n",
              "2022-11-07                  301      317\n",
              "2022-11-08                  247      296\n",
              "2022-11-09                   79      830\n",
              "2022-11-10                  165      789"
            ],
            "text/html": [
              "\n",
              "  <div id=\"df-e85fdd37-6619-4842-b200-169dfdaf73c3\">\n",
              "    <div class=\"colab-df-container\">\n",
              "      <div>\n",
              "<style scoped>\n",
              "    .dataframe tbody tr th:only-of-type {\n",
              "        vertical-align: middle;\n",
              "    }\n",
              "\n",
              "    .dataframe tbody tr th {\n",
              "        vertical-align: top;\n",
              "    }\n",
              "\n",
              "    .dataframe thead th {\n",
              "        text-align: right;\n",
              "    }\n",
              "</style>\n",
              "<table border=\"1\" class=\"dataframe\">\n",
              "  <thead>\n",
              "    <tr style=\"text-align: right;\">\n",
              "      <th>UserVar_taskStatusLabel</th>\n",
              "      <th>Failed</th>\n",
              "      <th>Success</th>\n",
              "    </tr>\n",
              "    <tr>\n",
              "      <th>createdDate</th>\n",
              "      <th></th>\n",
              "      <th></th>\n",
              "    </tr>\n",
              "  </thead>\n",
              "  <tbody>\n",
              "    <tr>\n",
              "      <th>2022-11-01</th>\n",
              "      <td>0</td>\n",
              "      <td>677</td>\n",
              "    </tr>\n",
              "    <tr>\n",
              "      <th>2022-11-02</th>\n",
              "      <td>356</td>\n",
              "      <td>446</td>\n",
              "    </tr>\n",
              "    <tr>\n",
              "      <th>2022-11-03</th>\n",
              "      <td>313</td>\n",
              "      <td>570</td>\n",
              "    </tr>\n",
              "    <tr>\n",
              "      <th>2022-11-04</th>\n",
              "      <td>71</td>\n",
              "      <td>811</td>\n",
              "    </tr>\n",
              "    <tr>\n",
              "      <th>2022-11-05</th>\n",
              "      <td>389</td>\n",
              "      <td>383</td>\n",
              "    </tr>\n",
              "    <tr>\n",
              "      <th>2022-11-06</th>\n",
              "      <td>224</td>\n",
              "      <td>308</td>\n",
              "    </tr>\n",
              "    <tr>\n",
              "      <th>2022-11-07</th>\n",
              "      <td>301</td>\n",
              "      <td>317</td>\n",
              "    </tr>\n",
              "    <tr>\n",
              "      <th>2022-11-08</th>\n",
              "      <td>247</td>\n",
              "      <td>296</td>\n",
              "    </tr>\n",
              "    <tr>\n",
              "      <th>2022-11-09</th>\n",
              "      <td>79</td>\n",
              "      <td>830</td>\n",
              "    </tr>\n",
              "    <tr>\n",
              "      <th>2022-11-10</th>\n",
              "      <td>165</td>\n",
              "      <td>789</td>\n",
              "    </tr>\n",
              "  </tbody>\n",
              "</table>\n",
              "</div>\n",
              "      <button class=\"colab-df-convert\" onclick=\"convertToInteractive('df-e85fdd37-6619-4842-b200-169dfdaf73c3')\"\n",
              "              title=\"Convert this dataframe to an interactive table.\"\n",
              "              style=\"display:none;\">\n",
              "        \n",
              "  <svg xmlns=\"http://www.w3.org/2000/svg\" height=\"24px\"viewBox=\"0 0 24 24\"\n",
              "       width=\"24px\">\n",
              "    <path d=\"M0 0h24v24H0V0z\" fill=\"none\"/>\n",
              "    <path d=\"M18.56 5.44l.94 2.06.94-2.06 2.06-.94-2.06-.94-.94-2.06-.94 2.06-2.06.94zm-11 1L8.5 8.5l.94-2.06 2.06-.94-2.06-.94L8.5 2.5l-.94 2.06-2.06.94zm10 10l.94 2.06.94-2.06 2.06-.94-2.06-.94-.94-2.06-.94 2.06-2.06.94z\"/><path d=\"M17.41 7.96l-1.37-1.37c-.4-.4-.92-.59-1.43-.59-.52 0-1.04.2-1.43.59L10.3 9.45l-7.72 7.72c-.78.78-.78 2.05 0 2.83L4 21.41c.39.39.9.59 1.41.59.51 0 1.02-.2 1.41-.59l7.78-7.78 2.81-2.81c.8-.78.8-2.07 0-2.86zM5.41 20L4 18.59l7.72-7.72 1.47 1.35L5.41 20z\"/>\n",
              "  </svg>\n",
              "      </button>\n",
              "      \n",
              "  <style>\n",
              "    .colab-df-container {\n",
              "      display:flex;\n",
              "      flex-wrap:wrap;\n",
              "      gap: 12px;\n",
              "    }\n",
              "\n",
              "    .colab-df-convert {\n",
              "      background-color: #E8F0FE;\n",
              "      border: none;\n",
              "      border-radius: 50%;\n",
              "      cursor: pointer;\n",
              "      display: none;\n",
              "      fill: #1967D2;\n",
              "      height: 32px;\n",
              "      padding: 0 0 0 0;\n",
              "      width: 32px;\n",
              "    }\n",
              "\n",
              "    .colab-df-convert:hover {\n",
              "      background-color: #E2EBFA;\n",
              "      box-shadow: 0px 1px 2px rgba(60, 64, 67, 0.3), 0px 1px 3px 1px rgba(60, 64, 67, 0.15);\n",
              "      fill: #174EA6;\n",
              "    }\n",
              "\n",
              "    [theme=dark] .colab-df-convert {\n",
              "      background-color: #3B4455;\n",
              "      fill: #D2E3FC;\n",
              "    }\n",
              "\n",
              "    [theme=dark] .colab-df-convert:hover {\n",
              "      background-color: #434B5C;\n",
              "      box-shadow: 0px 1px 3px 1px rgba(0, 0, 0, 0.15);\n",
              "      filter: drop-shadow(0px 1px 2px rgba(0, 0, 0, 0.3));\n",
              "      fill: #FFFFFF;\n",
              "    }\n",
              "  </style>\n",
              "\n",
              "      <script>\n",
              "        const buttonEl =\n",
              "          document.querySelector('#df-e85fdd37-6619-4842-b200-169dfdaf73c3 button.colab-df-convert');\n",
              "        buttonEl.style.display =\n",
              "          google.colab.kernel.accessAllowed ? 'block' : 'none';\n",
              "\n",
              "        async function convertToInteractive(key) {\n",
              "          const element = document.querySelector('#df-e85fdd37-6619-4842-b200-169dfdaf73c3');\n",
              "          const dataTable =\n",
              "            await google.colab.kernel.invokeFunction('convertToInteractive',\n",
              "                                                     [key], {});\n",
              "          if (!dataTable) return;\n",
              "\n",
              "          const docLinkHtml = 'Like what you see? Visit the ' +\n",
              "            '<a target=\"_blank\" href=https://colab.research.google.com/notebooks/data_table.ipynb>data table notebook</a>'\n",
              "            + ' to learn more about interactive tables.';\n",
              "          element.innerHTML = '';\n",
              "          dataTable['output_type'] = 'display_data';\n",
              "          await google.colab.output.renderOutput(dataTable, element);\n",
              "          const docLink = document.createElement('div');\n",
              "          docLink.innerHTML = docLinkHtml;\n",
              "          element.appendChild(docLink);\n",
              "        }\n",
              "      </script>\n",
              "    </div>\n",
              "  </div>\n",
              "  "
            ]
          },
          "metadata": {},
          "execution_count": 131
        }
      ]
    },
    {
      "cell_type": "code",
      "source": [
        "# check the reason why the tasks were failed\n",
        "df[(df['taskStatus'] == 'done') & (df['UserVar_taskStatusLabel'] == 'Failed')]['UserVar_taskDetailStatusLabel'].value_counts()"
      ],
      "metadata": {
        "colab": {
          "base_uri": "https://localhost:8080/"
        },
        "id": "fbwNIE3J6A92",
        "outputId": "505c96de-9056-4eff-e1f7-f45b8351d611"
      },
      "execution_count": 132,
      "outputs": [
        {
          "output_type": "execute_result",
          "data": {
            "text/plain": [
              "MISROUTE                                             763\n",
              "ALAMAT TIDAK LENGKAP service/ TIDAK DIKENAL          322\n",
              "RUMAH service/ KANTOR KOSONG (MASIH DIHUNI)          304\n",
              "NEW ADDRESS                                          247\n",
              "DIAMBIL SENDIRI                                      100\n",
              "TUTUP PADA AKHIR PEKAN service/ HARI LIBUR            70\n",
              "PENERIMA TIDAK DIKENAL                                64\n",
              "DITOLAK OLEH PENERIMA                                 52\n",
              "PENERIMA MENOLAK BAYAR (KIRIMAN COD)                  48\n",
              "PENERIMA PINDAH ALAMAT                                45\n",
              "FORCE MAJEURE                                         42\n",
              "MENUNGGU PEMBAYARAN COD                               27\n",
              "HOLD FOR FURTHER INSTRUCTI0N                          24\n",
              "PENERIMA MENOLAK MENERIMA KIRIMAN COD (TDK PESAN)     17\n",
              "TUTUP/LIBUR CUTI/DINAS LUAR KOTA (KIRIMAN COD)        13\n",
              "RUMAH service/ KANTOR TIDAK DIHUNI                     3\n",
              "MENUNGGU KONFIRMASI NILAI COD                          2\n",
              "CRISS-CROSS                                            1\n",
              "DAMAGE CASE                                            1\n",
              "Name: UserVar_taskDetailStatusLabel, dtype: int64"
            ]
          },
          "metadata": {},
          "execution_count": 132
        }
      ]
    },
    {
      "cell_type": "code",
      "source": [
        "# Task Detail Status for Failed Tasks\n",
        "failed_counts = df[(df['taskStatus'] == 'done') & (df['UserVar_taskStatusLabel'] == 'Failed')]['UserVar_taskDetailStatusLabel'].value_counts()\n",
        "\n",
        "top_failed_counts = failed_counts.head(5).sort_values(ascending=True)\n",
        "\n",
        "plt.barh(top_failed_counts.index, top_failed_counts.values)\n",
        "plt.ylabel('Task Detail Status')\n",
        "plt.xlabel('Count')\n",
        "plt.title('Top 5 Task Detail Status for Failed Tasks')\n",
        "\n",
        "plt.show()\n"
      ],
      "metadata": {
        "colab": {
          "base_uri": "https://localhost:8080/",
          "height": 472
        },
        "id": "Vimhhrbp6Ycg",
        "outputId": "d3f56bb9-b297-4bb0-db5c-c9a4f948c139"
      },
      "execution_count": 133,
      "outputs": [
        {
          "output_type": "display_data",
          "data": {
            "text/plain": [
              "<Figure size 640x480 with 1 Axes>"
            ],
            "image/png": "[encoded data removed]"
          },
          "metadata": {}
        }
      ]
    },
    {
      "cell_type": "markdown",
      "source": [
        "## Waktu"
      ],
      "metadata": {
        "id": "4gVuwIB8dq-O"
      }
    },
    {
      "cell_type": "code",
      "source": [
        "# task creation by hour\n",
        "plt.hist(df['createdHour'], bins=24, edgecolor='black')\n",
        "plt.xlabel('Hour of the Day')\n",
        "plt.ylabel('Number of Tasks Created')\n",
        "plt.title('Distribution of Tasks Created by Hour')\n",
        "plt.show()\n"
      ],
      "metadata": {
        "colab": {
          "base_uri": "https://localhost:8080/",
          "height": 472
        },
        "id": "7wbn9nFvF6dQ",
        "outputId": "b487107c-96e3-48a2-f8bb-24eab9963c60"
      },
      "execution_count": 123,
      "outputs": [
        {
          "output_type": "display_data",
          "data": {
            "text/plain": [
              "<Figure size 640x480 with 1 Axes>"
            ],
            "image/png": "[encoded data removed]"
          },
          "metadata": {}
        }
      ]
    },
    {
      "cell_type": "code",
      "source": [
        "df['createdHour'].describe()"
      ],
      "metadata": {
        "colab": {
          "base_uri": "https://localhost:8080/"
        },
        "id": "TwmGpvvCGw8e",
        "outputId": "3886e1d3-3b6b-4b6e-de63-a7c7aa69445c"
      },
      "execution_count": 124,
      "outputs": [
        {
          "output_type": "execute_result",
          "data": {
            "text/plain": [
              "count    8334.000000\n",
              "mean        7.883729\n",
              "std         1.452241\n",
              "min         7.000000\n",
              "25%         7.000000\n",
              "50%         7.000000\n",
              "75%         8.000000\n",
              "max        20.000000\n",
              "Name: createdHour, dtype: float64"
            ]
          },
          "metadata": {},
          "execution_count": 124
        }
      ]
    },
    {
      "cell_type": "code",
      "source": [
        "# task creation by day of the week\n",
        "day_labels = ['Monday', 'Tuesday', 'Wednesday', 'Thursday', 'Friday', 'Saturday', 'Sunday']\n",
        "task_counts = df['createdDow'].value_counts().sort_index()\n",
        "\n",
        "plt.figure(figsize=(8, 4))\n",
        "\n",
        "plt.bar(day_labels, task_counts)\n",
        "plt.xlabel('Day of the Week')\n",
        "plt.ylabel('Number of Tasks Created')\n",
        "plt.title('Distribution of Tasks Created by Day of the Week')\n",
        "\n",
        "plt.xticks(rotation=45, ha='right')  \n",
        "\n",
        "plt.tight_layout()  \n",
        "\n",
        "plt.show()\n"
      ],
      "metadata": {
        "colab": {
          "base_uri": "https://localhost:8080/",
          "height": 407
        },
        "id": "LENGb0rDGCHJ",
        "outputId": "1c405d24-0d37-48b4-c0f2-13a4e84a3d95"
      },
      "execution_count": 125,
      "outputs": [
        {
          "output_type": "display_data",
          "data": {
            "text/plain": [
              "<Figure size 800x400 with 1 Axes>"
            ],
            "image/png": "[encoded data removed]"
          },
          "metadata": {}
        }
      ]
    },
    {
      "cell_type": "code",
      "source": [
        "task_counts"
      ],
      "metadata": {
        "colab": {
          "base_uri": "https://localhost:8080/"
        },
        "id": "GH88fkXpIrCh",
        "outputId": "540dbde6-96ca-4d65-da6a-bf67861928ea"
      },
      "execution_count": 126,
      "outputs": [
        {
          "output_type": "execute_result",
          "data": {
            "text/plain": [
              "0     875\n",
              "1    1412\n",
              "2    1820\n",
              "3    1902\n",
              "4     901\n",
              "5     853\n",
              "6     571\n",
              "Name: createdDow, dtype: int64"
            ]
          },
          "metadata": {},
          "execution_count": 126
        }
      ]
    },
    {
      "cell_type": "code",
      "source": [
        "# Filter the data to include only done tasks\n",
        "# distribution of task duration\n",
        "completed_tasks = df[df['taskStatus'] == 'done']\n",
        "\n",
        "plt.hist(completed_tasks['taskDuration'], bins=20, edgecolor='black')\n",
        "plt.xlabel('Task Duration')\n",
        "plt.ylabel('Number of Tasks')\n",
        "plt.title('Distribution of Task Durations')\n",
        "plt.show()\n"
      ],
      "metadata": {
        "colab": {
          "base_uri": "https://localhost:8080/",
          "height": 472
        },
        "id": "UWNaIkmdJsiM",
        "outputId": "36a6ac25-8441-4651-de26-018af4648a27"
      },
      "execution_count": 127,
      "outputs": [
        {
          "output_type": "display_data",
          "data": {
            "text/plain": [
              "<Figure size 640x480 with 1 Axes>"
            ],
            "image/png": "[encoded data removed]"
          },
          "metadata": {}
        }
      ]
    },
    {
      "cell_type": "code",
      "source": [
        "completed_tasks[completed_tasks['taskDuration'] <= 5]['taskDuration'].count()"
      ],
      "metadata": {
        "colab": {
          "base_uri": "https://localhost:8080/"
        },
        "id": "MyCMplgiLF27",
        "outputId": "15173066-bfc9-498a-8ff9-25d1f0e6515c"
      },
      "execution_count": 128,
      "outputs": [
        {
          "output_type": "execute_result",
          "data": {
            "text/plain": [
              "1440"
            ]
          },
          "metadata": {},
          "execution_count": 128
        }
      ]
    },
    {
      "cell_type": "markdown",
      "source": [
        "## Pekerja/Kurir"
      ],
      "metadata": {
        "id": "6AtfrU0mdwAW"
      }
    },
    {
      "cell_type": "code",
      "source": [
        "df['taskAssignedTo'].nunique()"
      ],
      "metadata": {
        "colab": {
          "base_uri": "https://localhost:8080/"
        },
        "id": "EleTlIvAarCN",
        "outputId": "e24d7f2b-e142-4889-fcee-447bf05327a1"
      },
      "execution_count": 177,
      "outputs": [
        {
          "output_type": "execute_result",
          "data": {
            "text/plain": [
              "2787"
            ]
          },
          "metadata": {},
          "execution_count": 177
        }
      ]
    },
    {
      "cell_type": "code",
      "source": [
        "# tasks per worker in total 10 days period\n",
        "print('mean : ', df.groupby('taskAssignedTo')['taskId'].count().mean())\n",
        "print('min : ', df.groupby('taskAssignedTo')['taskId'].count().min())\n",
        "print('max : ', df.groupby('taskAssignedTo')['taskId'].count().max())\n"
      ],
      "metadata": {
        "colab": {
          "base_uri": "https://localhost:8080/"
        },
        "id": "t3XcTf7Z-0x4",
        "outputId": "2583832c-e003-4d77-dfcb-40a7af6b9830"
      },
      "execution_count": 144,
      "outputs": [
        {
          "output_type": "stream",
          "name": "stdout",
          "text": [
            "mean :  2.9899533548618584\n",
            "min :  1\n",
            "max :  103\n"
          ]
        }
      ]
    },
    {
      "cell_type": "code",
      "source": [
        "task_counts = df.groupby('taskAssignedTo')['taskId'].count()\n",
        "max_count = task_counts.max()\n",
        "\n",
        "# Get the count of workers with the maximum task count\n",
        "num_workers_with_max_count = (task_counts == max_count).sum()\n",
        "\n",
        "print('Max Value:', max_count)\n",
        "print('Number of Workers with Max Value:', num_workers_with_max_count)"
      ],
      "metadata": {
        "colab": {
          "base_uri": "https://localhost:8080/"
        },
        "id": "nUG4Den7Zsx2",
        "outputId": "63c52a1a-6312-45f1-8e47-fd6602324054"
      },
      "execution_count": 168,
      "outputs": [
        {
          "output_type": "stream",
          "name": "stdout",
          "text": [
            "Max Value: 103\n",
            "Number of Workers with Max Value: 1\n"
          ]
        }
      ]
    },
    {
      "cell_type": "code",
      "source": [
        "df.groupby('taskAssignedTo')['taskId'].count().idxmax()"
      ],
      "metadata": {
        "colab": {
          "base_uri": "https://localhost:8080/",
          "height": 35
        },
        "id": "MubzISwcTutt",
        "outputId": "893ed3de-8c25-4f20-c007-0b79c57a2838"
      },
      "execution_count": 146,
      "outputs": [
        {
          "output_type": "execute_result",
          "data": {
            "text/plain": [
              "'gutturalLion9'"
            ],
            "application/vnd.google.colaboratory.intrinsic+json": {
              "type": "string"
            }
          },
          "metadata": {},
          "execution_count": 146
        }
      ]
    },
    {
      "cell_type": "code",
      "source": [
        "len(df[df['taskAssignedTo']=='gutturalLion9'])"
      ],
      "metadata": {
        "colab": {
          "base_uri": "https://localhost:8080/"
        },
        "id": "zoc_8pYB7NmD",
        "outputId": "3aa10aad-838a-4134-89ac-0141f3446426"
      },
      "execution_count": 151,
      "outputs": [
        {
          "output_type": "execute_result",
          "data": {
            "text/plain": [
              "103"
            ]
          },
          "metadata": {},
          "execution_count": 151
        }
      ]
    },
    {
      "cell_type": "code",
      "source": [
        "# tasks per worker in 1 day\n",
        "print('mean : ', df.groupby(['taskAssignedTo','createdDow'])['taskId'].count().mean())\n",
        "print('min : ', df.groupby(['taskAssignedTo','createdDow'])['taskId'].count().min())\n",
        "print('max : ', df.groupby(['taskAssignedTo','createdDow'])['taskId'].count().max())"
      ],
      "metadata": {
        "colab": {
          "base_uri": "https://localhost:8080/"
        },
        "id": "iydDpN6M-0r3",
        "outputId": "268a9eb6-e7a3-4707-f182-f264c9289bc1"
      },
      "execution_count": 145,
      "outputs": [
        {
          "output_type": "stream",
          "name": "stdout",
          "text": [
            "mean :  2.193471966306923\n",
            "min :  1\n",
            "max :  83\n"
          ]
        }
      ]
    },
    {
      "cell_type": "code",
      "source": [
        "task_counts = df.groupby(['taskAssignedTo','createdDow'])['taskId'].count()\n",
        "max_count = task_counts.max()\n",
        "\n",
        "# Get the count of workers with the maximum task count\n",
        "num_workers_with_max_count = (task_counts == max_count).sum()\n",
        "\n",
        "print('Max Value:', max_count)\n",
        "print('Number of Workers with Max Value:', num_workers_with_max_count)\n"
      ],
      "metadata": {
        "colab": {
          "base_uri": "https://localhost:8080/"
        },
        "id": "DOPUmchWZyBz",
        "outputId": "70f7f42f-7c53-4a71-aaf0-a7ccbd43a444"
      },
      "execution_count": 169,
      "outputs": [
        {
          "output_type": "stream",
          "name": "stdout",
          "text": [
            "Max Value: 83\n",
            "Number of Workers with Max Value: 1\n"
          ]
        }
      ]
    },
    {
      "cell_type": "code",
      "source": [
        "df.groupby(['taskAssignedTo','createdDow'])['taskId'].count().idxmax()"
      ],
      "metadata": {
        "colab": {
          "base_uri": "https://localhost:8080/"
        },
        "id": "4opT4Wel-0jT",
        "outputId": "2d8fb139-46ae-4020-fd1e-8b314daab8b7"
      },
      "execution_count": 147,
      "outputs": [
        {
          "output_type": "execute_result",
          "data": {
            "text/plain": [
              "('gloomyLlama0', 0)"
            ]
          },
          "metadata": {},
          "execution_count": 147
        }
      ]
    },
    {
      "cell_type": "code",
      "source": [
        "temp = df[df['taskStatus']=='done']\n",
        "\n",
        "task_counts = temp.groupby(['taskAssignedTo', 'UserVar_taskStatusLabel'])['taskId'].count()\n",
        "total_counts = task_counts.groupby('taskAssignedTo').sum()\n",
        "success_rates = task_counts.loc[(slice(None), 'Success')] / total_counts\n",
        "\n",
        "print('mean : ', success_rates.mean())\n",
        "print('min : ', success_rates.min())\n",
        "print('max : ', success_rates.max())"
      ],
      "metadata": {
        "colab": {
          "base_uri": "https://localhost:8080/"
        },
        "id": "yufZXL4-VDu0",
        "outputId": "35c6b758-75af-468c-b9ee-a96bd4ab3e55"
      },
      "execution_count": 173,
      "outputs": [
        {
          "output_type": "stream",
          "name": "stdout",
          "text": [
            "mean :  0.9454058458805376\n",
            "min :  0.02\n",
            "max :  1.0\n"
          ]
        }
      ]
    },
    {
      "cell_type": "code",
      "source": [
        "min_value = success_rates.min()\n",
        "indices_with_min_value = success_rates[success_rates == min_value].index\n",
        "num_indices_with_min_value = len(indices_with_min_value)\n",
        "\n",
        "print('Number of indices with min value:', num_indices_with_min_value)\n"
      ],
      "metadata": {
        "colab": {
          "base_uri": "https://localhost:8080/"
        },
        "id": "unuJyaxRaewC",
        "outputId": "3faf664a-fa1c-4775-99c7-e1f2358ea91b"
      },
      "execution_count": 175,
      "outputs": [
        {
          "output_type": "stream",
          "name": "stdout",
          "text": [
            "Number of indices with min value: 1\n"
          ]
        }
      ]
    },
    {
      "cell_type": "code",
      "source": [
        "max_value = success_rates.max()\n",
        "indices_with_max_value = success_rates[success_rates == max_value].index\n",
        "num_indices_with_max_value = len(indices_with_max_value)\n",
        "\n",
        "print('Number of indices with max value:', num_indices_with_max_value)\n"
      ],
      "metadata": {
        "colab": {
          "base_uri": "https://localhost:8080/"
        },
        "id": "jJM3Jg7JZ3ju",
        "outputId": "4c8541c1-7818-4af0-8daa-98a4a2bb1378"
      },
      "execution_count": 174,
      "outputs": [
        {
          "output_type": "stream",
          "name": "stdout",
          "text": [
            "Number of indices with max value: 2020\n"
          ]
        }
      ]
    },
    {
      "cell_type": "code",
      "source": [
        "success_rates.idxmin()"
      ],
      "metadata": {
        "colab": {
          "base_uri": "https://localhost:8080/",
          "height": 35
        },
        "id": "U868E__NYyW0",
        "outputId": "f3b9a7dd-a1f6-47f3-b4ac-8f9e880ca6bb"
      },
      "execution_count": 166,
      "outputs": [
        {
          "output_type": "execute_result",
          "data": {
            "text/plain": [
              "'mellowDoughnut1'"
            ],
            "application/vnd.google.colaboratory.intrinsic+json": {
              "type": "string"
            }
          },
          "metadata": {},
          "execution_count": 166
        }
      ]
    },
    {
      "cell_type": "code",
      "source": [
        "df[df['taskAssignedTo']=='mellowDoughnut1']['UserVar_taskStatusLabel'].value_counts()"
      ],
      "metadata": {
        "colab": {
          "base_uri": "https://localhost:8080/"
        },
        "id": "PVn0bTmAXtjM",
        "outputId": "d39ae76d-d9a5-4eff-feb1-aacf028251ff"
      },
      "execution_count": 164,
      "outputs": [
        {
          "output_type": "execute_result",
          "data": {
            "text/plain": [
              "Failed     49\n",
              "Success     1\n",
              "Name: UserVar_taskStatusLabel, dtype: int64"
            ]
          },
          "metadata": {},
          "execution_count": 164
        }
      ]
    },
    {
      "cell_type": "code",
      "source": [
        "temp = df[df['taskStatus'] == 'done']\n",
        "\n",
        "task_counts = temp.groupby(['taskAssignedTo', 'createdDow', 'UserVar_taskStatusLabel'])['taskId'].count()\n",
        "total_counts = task_counts.groupby(['taskAssignedTo', 'createdDow']).sum()\n",
        "success_rates = task_counts.loc[(slice(None), slice(None), 'Success')] / total_counts\n",
        "\n",
        "print('mean : ', success_rates.mean())\n",
        "print('min : ', success_rates.min())\n",
        "print('max : ', success_rates.max())"
      ],
      "metadata": {
        "colab": {
          "base_uri": "https://localhost:8080/"
        },
        "id": "D3ZqL7pYVDgf",
        "outputId": "c030c41c-fd6e-47ea-aa53-8b6ae6df893b"
      },
      "execution_count": 179,
      "outputs": [
        {
          "output_type": "stream",
          "name": "stdout",
          "text": [
            "mean :  0.9768939924634212\n",
            "min :  0.02631578947368421\n",
            "max :  1.0\n"
          ]
        }
      ]
    },
    {
      "cell_type": "code",
      "source": [
        "min_value = success_rates.min()\n",
        "indices_with_min_value = success_rates[success_rates == min_value].index\n",
        "num_indices_with_min_value = len(indices_with_min_value)\n",
        "\n",
        "print('Number of indices with min value:', num_indices_with_min_value)\n"
      ],
      "metadata": {
        "colab": {
          "base_uri": "https://localhost:8080/"
        },
        "id": "mui7bX_Xb7_p",
        "outputId": "d50f5ab3-2d78-4268-bbf4-fd0b22923c99"
      },
      "execution_count": 180,
      "outputs": [
        {
          "output_type": "stream",
          "name": "stdout",
          "text": [
            "Number of indices with min value: 1\n"
          ]
        }
      ]
    },
    {
      "cell_type": "code",
      "source": [
        "max_value = success_rates.max()\n",
        "indices_with_max_value = success_rates[success_rates == max_value].index\n",
        "num_indices_with_max_value = len(indices_with_max_value)\n",
        "\n",
        "print('Number of indices with max value:', num_indices_with_max_value)\n"
      ],
      "metadata": {
        "colab": {
          "base_uri": "https://localhost:8080/"
        },
        "id": "YtjKHT-Gb-6p",
        "outputId": "893f777c-a942-4b0c-f64b-1b83a8104b04"
      },
      "execution_count": 181,
      "outputs": [
        {
          "output_type": "stream",
          "name": "stdout",
          "text": [
            "Number of indices with max value: 2860\n"
          ]
        }
      ]
    },
    {
      "cell_type": "markdown",
      "source": [
        "## Branch"
      ],
      "metadata": {
        "id": "ffS9KyFqdy13"
      }
    },
    {
      "cell_type": "code",
      "source": [
        "top_branch_origins = df['UserVar_branch_origin'].value_counts().nlargest(5)\n",
        "\n",
        "plt.figure(figsize=(8, 6))\n",
        "bar_plot = top_branch_origins.plot(kind='bar')\n",
        "bar_plot.set_xticklabels(bar_plot.get_xticklabels(), rotation=60, ha='right')\n",
        "plt.xlabel('Branch Origin')\n",
        "plt.ylabel('Number of Tasks')\n",
        "plt.title('Top 5 Branch Origins')\n",
        "plt.show()\n"
      ],
      "metadata": {
        "colab": {
          "base_uri": "https://localhost:8080/",
          "height": 584
        },
        "id": "U6U5L4sxdQ7U",
        "outputId": "4fff3bf6-cbb7-4732-eba4-f695453552c4"
      },
      "execution_count": 187,
      "outputs": [
        {
          "output_type": "display_data",
          "data": {
            "text/plain": [
              "<Figure size 800x600 with 1 Axes>"
            ],
            "image/png": "[encoded data removed]"
          },
          "metadata": {}
        }
      ]
    },
    {
      "cell_type": "code",
      "source": [
        "top_branch_origins"
      ],
      "metadata": {
        "colab": {
          "base_uri": "https://localhost:8080/"
        },
        "id": "nrP8VVWBe2wM",
        "outputId": "f0a7e4bd-0465-4406-dfe4-948449cda28f"
      },
      "execution_count": 189,
      "outputs": [
        {
          "output_type": "execute_result",
          "data": {
            "text/plain": [
              "CGK    5550\n",
              "BDO     341\n",
              "TGR     226\n",
              "JOG     206\n",
              "SUB     164\n",
              "Name: UserVar_branch_origin, dtype: int64"
            ]
          },
          "metadata": {},
          "execution_count": 189
        }
      ]
    },
    {
      "cell_type": "code",
      "source": [
        "top_branch_dest = df['UserVar_branch_dest'].value_counts().nlargest(5)\n",
        "\n",
        "plt.figure(figsize=(8, 6))\n",
        "bar_plot = top_branch_dest.plot(kind='bar')\n",
        "bar_plot.set_xticklabels(bar_plot.get_xticklabels(), rotation=60, ha='right')\n",
        "plt.xlabel('Branch Destination')\n",
        "plt.ylabel('Number of Tasks')\n",
        "plt.title('Top 5 Branch Destination')\n",
        "plt.show()\n"
      ],
      "metadata": {
        "colab": {
          "base_uri": "https://localhost:8080/",
          "height": 584
        },
        "id": "zDbYZgoZeL9I",
        "outputId": "65ff8979-5a74-4691-f054-7ddb3fad36f1"
      },
      "execution_count": 188,
      "outputs": [
        {
          "output_type": "display_data",
          "data": {
            "text/plain": [
              "<Figure size 800x600 with 1 Axes>"
            ],
            "image/png": "[encoded data removed]"
          },
          "metadata": {}
        }
      ]
    },
    {
      "cell_type": "code",
      "source": [
        "origin_dest_counts = df.groupby(['UserVar_branch_origin', 'UserVar_branch_dest']).size().reset_index(name='count')\n",
        "sorted_counts = origin_dest_counts.sort_values('count', ascending=False)\n",
        "sorted_counts"
      ],
      "metadata": {
        "colab": {
          "base_uri": "https://localhost:8080/",
          "height": 424
        },
        "id": "Ff3V8-LpgKEI",
        "outputId": "eded06f2-856c-4c42-eceb-028bab7612c6"
      },
      "execution_count": 199,
      "outputs": [
        {
          "output_type": "execute_result",
          "data": {
            "text/plain": [
              "    UserVar_branch_origin UserVar_branch_dest  count\n",
              "244                   CGK                 PLM    406\n",
              "254                   CGK                 SRG    373\n",
              "207                   CGK                 BDO    334\n",
              "216                   CGK                 CGK    297\n",
              "210                   CGK                 BOO    265\n",
              "..                    ...                 ...    ...\n",
              "466                   MDN                 SOC      1\n",
              "465                   MDN                 SMD      1\n",
              "464                   MDN                 MXG      1\n",
              "460                   MDN                 CGK      1\n",
              "441                   KRW                 CGK      1\n",
              "\n",
              "[882 rows x 3 columns]"
            ],
            "text/html": [
              "\n",
              "  <div id=\"df-e4197a88-2551-4dee-abd5-b65c19134e3b\">\n",
              "    <div class=\"colab-df-container\">\n",
              "      <div>\n",
              "<style scoped>\n",
              "    .dataframe tbody tr th:only-of-type {\n",
              "        vertical-align: middle;\n",
              "    }\n",
              "\n",
              "    .dataframe tbody tr th {\n",
              "        vertical-align: top;\n",
              "    }\n",
              "\n",
              "    .dataframe thead th {\n",
              "        text-align: right;\n",
              "    }\n",
              "</style>\n",
              "<table border=\"1\" class=\"dataframe\">\n",
              "  <thead>\n",
              "    <tr style=\"text-align: right;\">\n",
              "      <th></th>\n",
              "      <th>UserVar_branch_origin</th>\n",
              "      <th>UserVar_branch_dest</th>\n",
              "      <th>count</th>\n",
              "    </tr>\n",
              "  </thead>\n",
              "  <tbody>\n",
              "    <tr>\n",
              "      <th>244</th>\n",
              "      <td>CGK</td>\n",
              "      <td>PLM</td>\n",
              "      <td>406</td>\n",
              "    </tr>\n",
              "    <tr>\n",
              "      <th>254</th>\n",
              "      <td>CGK</td>\n",
              "      <td>SRG</td>\n",
              "      <td>373</td>\n",
              "    </tr>\n",
              "    <tr>\n",
              "      <th>207</th>\n",
              "      <td>CGK</td>\n",
              "      <td>BDO</td>\n",
              "      <td>334</td>\n",
              "    </tr>\n",
              "    <tr>\n",
              "      <th>216</th>\n",
              "      <td>CGK</td>\n",
              "      <td>CGK</td>\n",
              "      <td>297</td>\n",
              "    </tr>\n",
              "    <tr>\n",
              "      <th>210</th>\n",
              "      <td>CGK</td>\n",
              "      <td>BOO</td>\n",
              "      <td>265</td>\n",
              "    </tr>\n",
              "    <tr>\n",
              "      <th>...</th>\n",
              "      <td>...</td>\n",
              "      <td>...</td>\n",
              "      <td>...</td>\n",
              "    </tr>\n",
              "    <tr>\n",
              "      <th>466</th>\n",
              "      <td>MDN</td>\n",
              "      <td>SOC</td>\n",
              "      <td>1</td>\n",
              "    </tr>\n",
              "    <tr>\n",
              "      <th>465</th>\n",
              "      <td>MDN</td>\n",
              "      <td>SMD</td>\n",
              "      <td>1</td>\n",
              "    </tr>\n",
              "    <tr>\n",
              "      <th>464</th>\n",
              "      <td>MDN</td>\n",
              "      <td>MXG</td>\n",
              "      <td>1</td>\n",
              "    </tr>\n",
              "    <tr>\n",
              "      <th>460</th>\n",
              "      <td>MDN</td>\n",
              "      <td>CGK</td>\n",
              "      <td>1</td>\n",
              "    </tr>\n",
              "    <tr>\n",
              "      <th>441</th>\n",
              "      <td>KRW</td>\n",
              "      <td>CGK</td>\n",
              "      <td>1</td>\n",
              "    </tr>\n",
              "  </tbody>\n",
              "</table>\n",
              "<p>882 rows × 3 columns</p>\n",
              "</div>\n",
              "      <button class=\"colab-df-convert\" onclick=\"convertToInteractive('df-e4197a88-2551-4dee-abd5-b65c19134e3b')\"\n",
              "              title=\"Convert this dataframe to an interactive table.\"\n",
              "              style=\"display:none;\">\n",
              "        \n",
              "  <svg xmlns=\"http://www.w3.org/2000/svg\" height=\"24px\"viewBox=\"0 0 24 24\"\n",
              "       width=\"24px\">\n",
              "    <path d=\"M0 0h24v24H0V0z\" fill=\"none\"/>\n",
              "    <path d=\"M18.56 5.44l.94 2.06.94-2.06 2.06-.94-2.06-.94-.94-2.06-.94 2.06-2.06.94zm-11 1L8.5 8.5l.94-2.06 2.06-.94-2.06-.94L8.5 2.5l-.94 2.06-2.06.94zm10 10l.94 2.06.94-2.06 2.06-.94-2.06-.94-.94-2.06-.94 2.06-2.06.94z\"/><path d=\"M17.41 7.96l-1.37-1.37c-.4-.4-.92-.59-1.43-.59-.52 0-1.04.2-1.43.59L10.3 9.45l-7.72 7.72c-.78.78-.78 2.05 0 2.83L4 21.41c.39.39.9.59 1.41.59.51 0 1.02-.2 1.41-.59l7.78-7.78 2.81-2.81c.8-.78.8-2.07 0-2.86zM5.41 20L4 18.59l7.72-7.72 1.47 1.35L5.41 20z\"/>\n",
              "  </svg>\n",
              "      </button>\n",
              "      \n",
              "  <style>\n",
              "    .colab-df-container {\n",
              "      display:flex;\n",
              "      flex-wrap:wrap;\n",
              "      gap: 12px;\n",
              "    }\n",
              "\n",
              "    .colab-df-convert {\n",
              "      background-color: #E8F0FE;\n",
              "      border: none;\n",
              "      border-radius: 50%;\n",
              "      cursor: pointer;\n",
              "      display: none;\n",
              "      fill: #1967D2;\n",
              "      height: 32px;\n",
              "      padding: 0 0 0 0;\n",
              "      width: 32px;\n",
              "    }\n",
              "\n",
              "    .colab-df-convert:hover {\n",
              "      background-color: #E2EBFA;\n",
              "      box-shadow: 0px 1px 2px rgba(60, 64, 67, 0.3), 0px 1px 3px 1px rgba(60, 64, 67, 0.15);\n",
              "      fill: #174EA6;\n",
              "    }\n",
              "\n",
              "    [theme=dark] .colab-df-convert {\n",
              "      background-color: #3B4455;\n",
              "      fill: #D2E3FC;\n",
              "    }\n",
              "\n",
              "    [theme=dark] .colab-df-convert:hover {\n",
              "      background-color: #434B5C;\n",
              "      box-shadow: 0px 1px 3px 1px rgba(0, 0, 0, 0.15);\n",
              "      filter: drop-shadow(0px 1px 2px rgba(0, 0, 0, 0.3));\n",
              "      fill: #FFFFFF;\n",
              "    }\n",
              "  </style>\n",
              "\n",
              "      <script>\n",
              "        const buttonEl =\n",
              "          document.querySelector('#df-e4197a88-2551-4dee-abd5-b65c19134e3b button.colab-df-convert');\n",
              "        buttonEl.style.display =\n",
              "          google.colab.kernel.accessAllowed ? 'block' : 'none';\n",
              "\n",
              "        async function convertToInteractive(key) {\n",
              "          const element = document.querySelector('#df-e4197a88-2551-4dee-abd5-b65c19134e3b');\n",
              "          const dataTable =\n",
              "            await google.colab.kernel.invokeFunction('convertToInteractive',\n",
              "                                                     [key], {});\n",
              "          if (!dataTable) return;\n",
              "\n",
              "          const docLinkHtml = 'Like what you see? Visit the ' +\n",
              "            '<a target=\"_blank\" href=https://colab.research.google.com/notebooks/data_table.ipynb>data table notebook</a>'\n",
              "            + ' to learn more about interactive tables.';\n",
              "          element.innerHTML = '';\n",
              "          dataTable['output_type'] = 'display_data';\n",
              "          await google.colab.output.renderOutput(dataTable, element);\n",
              "          const docLink = document.createElement('div');\n",
              "          docLink.innerHTML = docLinkHtml;\n",
              "          element.appendChild(docLink);\n",
              "        }\n",
              "      </script>\n",
              "    </div>\n",
              "  </div>\n",
              "  "
            ]
          },
          "metadata": {},
          "execution_count": 199
        }
      ]
    },
    {
      "cell_type": "code",
      "source": [
        "top_pairs = sorted_counts.head(10)\n",
        "top_pairs = top_pairs.iloc[::-1]\n",
        "\n",
        "plt.barh(top_pairs['UserVar_branch_origin'] + ' to ' + top_pairs['UserVar_branch_dest'], top_pairs['count'])\n",
        "plt.xlabel('Count')\n",
        "plt.ylabel('Origin-Destination Pair')\n",
        "plt.title('Top 10 Most Common Origin-Destination Pairs')\n",
        "plt.show()"
      ],
      "metadata": {
        "colab": {
          "base_uri": "https://localhost:8080/",
          "height": 472
        },
        "id": "P8Jup1lsgTja",
        "outputId": "78e38664-763b-4f09-962e-801ba83551d6"
      },
      "execution_count": 201,
      "outputs": [
        {
          "output_type": "display_data",
          "data": {
            "text/plain": [
              "<Figure size 640x480 with 1 Axes>"
            ],
            "image/png": "[encoded data removed]"
          },
          "metadata": {}
        }
      ]
    }
  ]
}